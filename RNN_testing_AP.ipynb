{
 "cells": [
  {
   "cell_type": "code",
   "execution_count": 1,
   "metadata": {},
   "outputs": [
    {
     "data": {
      "text/plain": [
       "array([[1],\n",
       "       [2],\n",
       "       [3],\n",
       "       [4]])"
      ]
     },
     "execution_count": 1,
     "metadata": {},
     "output_type": "execute_result"
    }
   ],
   "source": [
    "import pandas as pd\n",
    "import numpy as np\n",
    "np.random.seed(seed=1)\n",
    "\n",
    "X = np.array([1, 2, 3, 4,]).reshape(-1,1)\n",
    "# y=np.array([5, 6]).reshape(-1,1)\n",
    "y=np.array([5, 6, 7]).reshape(-1,1)\n",
    "X\n"
   ]
  },
  {
   "cell_type": "code",
   "execution_count": 2,
   "metadata": {},
   "outputs": [
    {
     "data": {
      "text/plain": [
       "array([[5],\n",
       "       [6],\n",
       "       [7]])"
      ]
     },
     "execution_count": 2,
     "metadata": {},
     "output_type": "execute_result"
    }
   ],
   "source": [
    "y"
   ]
  },
  {
   "cell_type": "markdown",
   "metadata": {},
   "source": [
    "# Test Forward Individual"
   ]
  },
  {
   "cell_type": "code",
   "execution_count": 3,
   "metadata": {},
   "outputs": [],
   "source": [
    "from Layers.InputLayer import InputLayer\n",
    "from Layers.FullyConnectedLayer import FullyConnectedLayer\n",
    "from Layers.TanhLayer import TanhLayer\n",
    "from Layers.LinearLayer import LinearLayer\n",
    "from LossFunctions.SquaredError import SquaredError\n",
    "\n",
    "# Create network\n",
    "IL = InputLayer(X)\n",
    "FCLU = FullyConnectedLayer(1, 5)\n",
    "ACT1 = TanhLayer()\n",
    "FCLW = FullyConnectedLayer(5, 5,)\n",
    "FCLV = FullyConnectedLayer(5, 3)\n",
    "ACT2 = LinearLayer()\n",
    "SE = SquaredError()"
   ]
  },
  {
   "cell_type": "markdown",
   "metadata": {},
   "source": [
    "## IL"
   ]
  },
  {
   "cell_type": "code",
   "execution_count": 4,
   "metadata": {},
   "outputs": [
    {
     "data": {
      "text/plain": [
       "array([-1.34164079])"
      ]
     },
     "execution_count": 4,
     "metadata": {},
     "output_type": "execute_result"
    }
   ],
   "source": [
    "t = 0\n",
    "IL_out = IL.forward(X[t])\n",
    "IL_out"
   ]
  },
  {
   "cell_type": "markdown",
   "metadata": {},
   "source": [
    "## FCLU"
   ]
  },
  {
   "cell_type": "code",
   "execution_count": 5,
   "metadata": {},
   "outputs": [
    {
     "data": {
      "text/plain": [
       "array([[-5.92669485e-05, -1.21867223e-04,  1.03245534e-04,\n",
       "         3.23932314e-05,  1.02548688e-04]])"
      ]
     },
     "execution_count": 5,
     "metadata": {},
     "output_type": "execute_result"
    }
   ],
   "source": [
    "if t > 0:\n",
    "    FCLU_out = FCLU.forward_with_feedback(IL_out, FCLW.getPrevOut())\n",
    "else:\n",
    "    FCLU_out = FCLU.forward(IL_out)\n",
    "FCLU_out"
   ]
  },
  {
   "cell_type": "code",
   "execution_count": 6,
   "metadata": {},
   "outputs": [
    {
     "data": {
      "text/plain": [
       "(1, 5)"
      ]
     },
     "execution_count": 6,
     "metadata": {},
     "output_type": "execute_result"
    }
   ],
   "source": [
    "FCLU_out.shape"
   ]
  },
  {
   "cell_type": "markdown",
   "metadata": {},
   "source": [
    "## ACT1"
   ]
  },
  {
   "cell_type": "code",
   "execution_count": 7,
   "metadata": {},
   "outputs": [
    {
     "data": {
      "text/plain": [
       "array([[-5.92669484e-05, -1.21867222e-04,  1.03245534e-04,\n",
       "         3.23932314e-05,  1.02548687e-04]])"
      ]
     },
     "execution_count": 7,
     "metadata": {},
     "output_type": "execute_result"
    }
   ],
   "source": [
    "ACT1_out = ACT1.forward(FCLU_out)\n",
    "ACT1_out"
   ]
  },
  {
   "cell_type": "code",
   "execution_count": 8,
   "metadata": {},
   "outputs": [
    {
     "data": {
      "text/plain": [
       "[array([[-5.92669485e-05, -1.21867223e-04,  1.03245534e-04,\n",
       "          3.23932314e-05,  1.02548688e-04]])]"
      ]
     },
     "execution_count": 8,
     "metadata": {},
     "output_type": "execute_result"
    }
   ],
   "source": [
    "ACT1.getPrevIn()"
   ]
  },
  {
   "cell_type": "code",
   "execution_count": 9,
   "metadata": {},
   "outputs": [
    {
     "data": {
      "text/plain": [
       "[array([[-5.92669484e-05, -1.21867222e-04,  1.03245534e-04,\n",
       "          3.23932314e-05,  1.02548687e-04]])]"
      ]
     },
     "execution_count": 9,
     "metadata": {},
     "output_type": "execute_result"
    }
   ],
   "source": [
    "ACT1.getPrevOut()"
   ]
  },
  {
   "cell_type": "markdown",
   "metadata": {},
   "source": [
    "## FCLW (feedback)"
   ]
  },
  {
   "cell_type": "code",
   "execution_count": 10,
   "metadata": {},
   "outputs": [
    {
     "data": {
      "text/plain": [
       "array([[-3.68995420e-05,  3.73053684e-05,  6.69297594e-05,\n",
       "        -9.63355490e-05,  5.00559807e-05]])"
      ]
     },
     "execution_count": 10,
     "metadata": {},
     "output_type": "execute_result"
    }
   ],
   "source": [
    "FCLW_out = FCLW.forward(ACT1_out)\n",
    "FCLW_out"
   ]
  },
  {
   "cell_type": "markdown",
   "metadata": {},
   "source": [
    "## FCLV"
   ]
  },
  {
   "cell_type": "code",
   "execution_count": 11,
   "metadata": {},
   "outputs": [
    {
     "data": {
      "text/plain": [
       "array([[-8.93402106e-05,  1.48180661e-05, -7.06538090e-05]])"
      ]
     },
     "execution_count": 11,
     "metadata": {},
     "output_type": "execute_result"
    }
   ],
   "source": [
    "FCLV_out = FCLV.forward(ACT1_out)\n",
    "FCLV_out"
   ]
  },
  {
   "cell_type": "code",
   "execution_count": 12,
   "metadata": {},
   "outputs": [
    {
     "data": {
      "text/plain": [
       "[array([[-5.92669484e-05, -1.21867222e-04,  1.03245534e-04,\n",
       "          3.23932314e-05,  1.02548687e-04]])]"
      ]
     },
     "execution_count": 12,
     "metadata": {},
     "output_type": "execute_result"
    }
   ],
   "source": [
    "FCLV.getPrevIn()"
   ]
  },
  {
   "cell_type": "markdown",
   "metadata": {},
   "source": [
    "## ACT2 - Linear"
   ]
  },
  {
   "cell_type": "code",
   "execution_count": 13,
   "metadata": {},
   "outputs": [
    {
     "data": {
      "text/plain": [
       "array([[-8.93402106e-05,  1.48180661e-05, -7.06538090e-05]])"
      ]
     },
     "execution_count": 13,
     "metadata": {},
     "output_type": "execute_result"
    }
   ],
   "source": [
    "ACT2_out = ACT2.forward(FCLV_out)\n",
    "ACT2_out"
   ]
  },
  {
   "cell_type": "code",
   "execution_count": 14,
   "metadata": {},
   "outputs": [
    {
     "data": {
      "text/plain": [
       "[array([[-8.93402106e-05,  1.48180661e-05, -7.06538090e-05]])]"
      ]
     },
     "execution_count": 14,
     "metadata": {},
     "output_type": "execute_result"
    }
   ],
   "source": [
    "ACT2.getPrevIn()"
   ]
  },
  {
   "cell_type": "code",
   "execution_count": 15,
   "metadata": {},
   "outputs": [
    {
     "data": {
      "text/plain": [
       "[array([[-8.93402106e-05,  1.48180661e-05, -7.06538090e-05]])]"
      ]
     },
     "execution_count": 15,
     "metadata": {},
     "output_type": "execute_result"
    }
   ],
   "source": [
    "ACT2.getPrevOut()"
   ]
  },
  {
   "cell_type": "code",
   "execution_count": null,
   "metadata": {},
   "outputs": [],
   "source": []
  },
  {
   "cell_type": "markdown",
   "metadata": {},
   "source": [
    "# Forward Altogether"
   ]
  },
  {
   "cell_type": "code",
   "execution_count": 44,
   "metadata": {},
   "outputs": [],
   "source": [
    "from Layers.InputLayer import InputLayer\n",
    "from Layers.FullyConnectedLayer import FullyConnectedLayer\n",
    "from Layers.TanhLayer import TanhLayer\n",
    "from Layers.LinearLayer import LinearLayer\n",
    "from LossFunctions.SquaredError import SquaredError\n",
    "\n",
    "# Create network\n",
    "IL = InputLayer(X)\n",
    "FCLU = FullyConnectedLayer(1, 5)\n",
    "ACT1 = TanhLayer()\n",
    "FCLW = FullyConnectedLayer(5, 5,)\n",
    "FCLV = FullyConnectedLayer(5, 3)\n",
    "ACT2 = LinearLayer()\n",
    "SE = SquaredError()"
   ]
  },
  {
   "cell_type": "code",
   "execution_count": 45,
   "metadata": {},
   "outputs": [
    {
     "data": {
      "text/plain": [
       "array([[ 9.77261633e-05,  1.59506575e-05, -2.39590095e-05]])"
      ]
     },
     "execution_count": 45,
     "metadata": {},
     "output_type": "execute_result"
    }
   ],
   "source": [
    "for t in range(4):\n",
    "    IL_out = IL.forward(X[t])\n",
    "\n",
    "    if t > 0:\n",
    "        FCLU_out = FCLU.forward_with_feedback(IL_out, FCLW.getPrevOut()[t-1])\n",
    "    else:\n",
    "        FCLU_out = FCLU.forward(IL_out)\n",
    "\n",
    "    ACT1_out = ACT1.forward(FCLU_out)\n",
    "\n",
    "    FCLW_out = FCLW.forward(ACT1_out)\n",
    "\n",
    "    FCLV_out = FCLV.forward(ACT1_out)\n",
    "\n",
    "    ACT2_out = ACT2.forward(FCLV_out)\n",
    "\n",
    "ACT2_out"
   ]
  },
  {
   "cell_type": "code",
   "execution_count": 46,
   "metadata": {},
   "outputs": [
    {
     "data": {
      "text/plain": [
       "array([[4.99990227],\n",
       "       [5.99998405],\n",
       "       [7.00002396]])"
      ]
     },
     "execution_count": 46,
     "metadata": {},
     "output_type": "execute_result"
    }
   ],
   "source": [
    "y - ACT2_out.reshape(y.shape)"
   ]
  },
  {
   "cell_type": "code",
   "execution_count": 47,
   "metadata": {},
   "outputs": [
    {
     "data": {
      "text/plain": [
       "36.666388922329226"
      ]
     },
     "execution_count": 47,
     "metadata": {},
     "output_type": "execute_result"
    }
   ],
   "source": [
    "SE_out = SE.eval(y, ACT2_out.reshape(y.shape)) # Using only the last output from sequence to evaluate the loss\n",
    "SE_out"
   ]
  },
  {
   "cell_type": "markdown",
   "metadata": {},
   "source": [
    "# Test Backward individual"
   ]
  },
  {
   "cell_type": "code",
   "execution_count": 48,
   "metadata": {},
   "outputs": [
    {
     "name": "stdout",
     "output_type": "stream",
     "text": [
      "3\n",
      "2\n",
      "1\n",
      "0\n"
     ]
    }
   ],
   "source": [
    "for t in range(len(X)-1, -1, -1):\n",
    "    print(t)"
   ]
  },
  {
   "cell_type": "code",
   "execution_count": 49,
   "metadata": {},
   "outputs": [
    {
     "data": {
      "text/plain": [
       "array([[ 9.77261633e-05,  1.59506575e-05, -2.39590095e-05]])"
      ]
     },
     "execution_count": 49,
     "metadata": {},
     "output_type": "execute_result"
    }
   ],
   "source": [
    "ACT2.getPrevOut()[-1]"
   ]
  },
  {
   "cell_type": "markdown",
   "metadata": {},
   "source": [
    "## Loop part 1: SE -> ACT 1 ->"
   ]
  },
  {
   "cell_type": "code",
   "execution_count": 12,
   "metadata": {},
   "outputs": [
    {
     "data": {
      "text/plain": [
       "array([[5],\n",
       "       [6],\n",
       "       [7]])"
      ]
     },
     "execution_count": 12,
     "metadata": {},
     "output_type": "execute_result"
    }
   ],
   "source": [
    "y"
   ]
  },
  {
   "cell_type": "code",
   "execution_count": 13,
   "metadata": {},
   "outputs": [
    {
     "data": {
      "text/plain": [
       "array([[ 3.93518549e-05, -8.68090426e-05,  5.11231601e-05]])"
      ]
     },
     "execution_count": 13,
     "metadata": {},
     "output_type": "execute_result"
    }
   ],
   "source": [
    "ACT2.getPrevOut()[-1] # Need to reshape..."
   ]
  },
  {
   "cell_type": "code",
   "execution_count": 50,
   "metadata": {},
   "outputs": [
    {
     "data": {
      "text/plain": [
       "array([[ -9.99980455, -11.9999681 , -14.00004792]])"
      ]
     },
     "execution_count": 50,
     "metadata": {},
     "output_type": "execute_result"
    }
   ],
   "source": [
    "grad = SE.gradient(y, ACT2.getPrevOut()[-1].reshape(y.shape)).reshape(1, -1)\n",
    "grad"
   ]
  },
  {
   "cell_type": "code",
   "execution_count": 51,
   "metadata": {},
   "outputs": [
    {
     "data": {
      "text/plain": [
       "array([[ -9.99980455, -11.9999681 , -14.00004792]])"
      ]
     },
     "execution_count": 51,
     "metadata": {},
     "output_type": "execute_result"
    }
   ],
   "source": [
    "grad = ACT2.backward(grad, t_inp=3) \n",
    "grad"
   ]
  },
  {
   "cell_type": "markdown",
   "metadata": {},
   "source": [
    "## Loop Part 2: Update FCLV Gradients"
   ]
  },
  {
   "cell_type": "markdown",
   "metadata": {},
   "source": [
    "### Weights grad accumulator"
   ]
  },
  {
   "cell_type": "code",
   "execution_count": 52,
   "metadata": {},
   "outputs": [
    {
     "data": {
      "text/plain": [
       "array([[0., 0., 0.],\n",
       "       [0., 0., 0.],\n",
       "       [0., 0., 0.],\n",
       "       [0., 0., 0.],\n",
       "       [0., 0., 0.]])"
      ]
     },
     "execution_count": 52,
     "metadata": {},
     "output_type": "execute_result"
    }
   ],
   "source": [
    "FCLV.weights_grad_accum"
   ]
  },
  {
   "cell_type": "code",
   "execution_count": 53,
   "metadata": {},
   "outputs": [
    {
     "data": {
      "text/plain": [
       "array([[-0.00066809, -0.00080172, -0.00093535],\n",
       "       [-0.00032795, -0.00039354, -0.00045914],\n",
       "       [ 0.00053343,  0.00064013,  0.00074682],\n",
       "       [ 0.00078355,  0.00094027,  0.00109699],\n",
       "       [ 0.00072296,  0.00086756,  0.00101216]])"
      ]
     },
     "execution_count": 53,
     "metadata": {},
     "output_type": "execute_result"
    }
   ],
   "source": [
    "FCLV.updateWeightsGradAccum(grad, t_inp=3)\n",
    "FCLV.weights_grad_accum"
   ]
  },
  {
   "cell_type": "markdown",
   "metadata": {},
   "source": [
    "### Biases grad accumulator"
   ]
  },
  {
   "cell_type": "code",
   "execution_count": 54,
   "metadata": {},
   "outputs": [
    {
     "data": {
      "text/plain": [
       "array([[0., 0., 0.]])"
      ]
     },
     "execution_count": 54,
     "metadata": {},
     "output_type": "execute_result"
    }
   ],
   "source": [
    "FCLV.biases_grad_accum"
   ]
  },
  {
   "cell_type": "code",
   "execution_count": 55,
   "metadata": {},
   "outputs": [
    {
     "data": {
      "text/plain": [
       "array([[ -9.99980455, -11.9999681 , -14.00004792]])"
      ]
     },
     "execution_count": 55,
     "metadata": {},
     "output_type": "execute_result"
    }
   ],
   "source": [
    "FCLV.updateBiasesGradAccum(grad)\n",
    "FCLV.biases_grad_accum"
   ]
  },
  {
   "cell_type": "markdown",
   "metadata": {},
   "source": [
    "## Loop Part 3: Send backward through FCLV and ACT1"
   ]
  },
  {
   "cell_type": "code",
   "execution_count": 56,
   "metadata": {},
   "outputs": [
    {
     "data": {
      "text/plain": [
       "array([[0., 0., 0., 0., 0.]])"
      ]
     },
     "execution_count": 56,
     "metadata": {},
     "output_type": "execute_result"
    }
   ],
   "source": [
    "dhNext_dW = np.zeros((1, 5)) # Same shape as what FCLV.backward(grad) is...\n",
    "dhNext_dW"
   ]
  },
  {
   "cell_type": "code",
   "execution_count": 57,
   "metadata": {},
   "outputs": [
    {
     "data": {
      "text/plain": [
       "array([[-9.02192248e-04, -5.18354673e-05, -6.84714234e-05,\n",
       "         2.03300671e-03,  1.33489228e-04]])"
      ]
     },
     "execution_count": 57,
     "metadata": {},
     "output_type": "execute_result"
    }
   ],
   "source": [
    "grad = FCLV.backward(grad) + dhNext_dW\n",
    "grad"
   ]
  },
  {
   "cell_type": "code",
   "execution_count": 58,
   "metadata": {},
   "outputs": [
    {
     "data": {
      "text/plain": [
       "array([[-9.02192244e-04, -5.18354673e-05, -6.84714232e-05,\n",
       "         2.03300670e-03,  1.33489227e-04]])"
      ]
     },
     "execution_count": 58,
     "metadata": {},
     "output_type": "execute_result"
    }
   ],
   "source": [
    "grad = ACT1.backward(grad, t_inp=3)\n",
    "grad"
   ]
  },
  {
   "cell_type": "markdown",
   "metadata": {},
   "source": [
    "## Loop part 4: Update FCLW gradients if t>0"
   ]
  },
  {
   "cell_type": "code",
   "execution_count": 60,
   "metadata": {},
   "outputs": [
    {
     "data": {
      "text/plain": [
       "3"
      ]
     },
     "execution_count": 60,
     "metadata": {},
     "output_type": "execute_result"
    }
   ],
   "source": [
    "t = 3\n",
    "t"
   ]
  },
  {
   "cell_type": "code",
   "execution_count": 61,
   "metadata": {},
   "outputs": [
    {
     "data": {
      "text/plain": [
       "array([[0., 0., 0., 0., 0.],\n",
       "       [0., 0., 0., 0., 0.],\n",
       "       [0., 0., 0., 0., 0.],\n",
       "       [0., 0., 0., 0., 0.],\n",
       "       [0., 0., 0., 0., 0.]])"
      ]
     },
     "execution_count": 61,
     "metadata": {},
     "output_type": "execute_result"
    }
   ],
   "source": [
    "FCLW.weights_grad_accum"
   ]
  },
  {
   "cell_type": "code",
   "execution_count": 62,
   "metadata": {},
   "outputs": [
    {
     "data": {
      "text/plain": [
       "array([[0., 0., 0., 0., 0.]])"
      ]
     },
     "execution_count": 62,
     "metadata": {},
     "output_type": "execute_result"
    }
   ],
   "source": [
    "FCLW.biases_grad_accum"
   ]
  },
  {
   "cell_type": "markdown",
   "metadata": {},
   "source": [
    "(Looking at class notes): h2(t-1) is the t-1'th output of ACT1 i.e. the Tanh because Tanh is the previous input to FCLW - can use .backward() as normal"
   ]
  },
  {
   "cell_type": "code",
   "execution_count": 63,
   "metadata": {},
   "outputs": [],
   "source": [
    "if t > 0:\n",
    "    FCLW.updateWeightsGradAccum(grad, t_inp=t-1) # Have to use t-1\n",
    "    FCLW.updateBiasesGradAccum(grad)"
   ]
  },
  {
   "cell_type": "code",
   "execution_count": 64,
   "metadata": {},
   "outputs": [
    {
     "data": {
      "text/plain": [
       "array([[-1.92852571e-08, -1.10803470e-09, -1.46364482e-09,\n",
       "         4.34575414e-08,  2.85346508e-09],\n",
       "       [ 3.86887466e-08,  2.22286245e-09,  2.93626282e-09,\n",
       "        -8.71815087e-08, -5.72442394e-09],\n",
       "       [ 8.22609882e-08,  4.72630616e-09,  6.24315602e-09,\n",
       "        -1.85367521e-07, -1.21714145e-08],\n",
       "       [ 1.00709298e-08,  5.78625406e-10,  7.64328116e-10,\n",
       "        -2.26939080e-08, -1.49010441e-09],\n",
       "       [-1.22515120e-08, -7.03910781e-10, -9.29822292e-10,\n",
       "         2.76076479e-08,  1.81274542e-09]])"
      ]
     },
     "execution_count": 64,
     "metadata": {},
     "output_type": "execute_result"
    }
   ],
   "source": [
    "FCLW.weights_grad_accum"
   ]
  },
  {
   "cell_type": "code",
   "execution_count": 65,
   "metadata": {},
   "outputs": [
    {
     "data": {
      "text/plain": [
       "array([[-9.02192244e-04, -5.18354673e-05, -6.84714232e-05,\n",
       "         2.03300670e-03,  1.33489227e-04]])"
      ]
     },
     "execution_count": 65,
     "metadata": {},
     "output_type": "execute_result"
    }
   ],
   "source": [
    "FCLW.biases_grad_accum"
   ]
  },
  {
   "cell_type": "markdown",
   "metadata": {},
   "source": [
    "## Loop part 5: Update FCLU gradients"
   ]
  },
  {
   "cell_type": "code",
   "execution_count": 66,
   "metadata": {},
   "outputs": [
    {
     "data": {
      "text/plain": [
       "(1, 5)"
      ]
     },
     "execution_count": 66,
     "metadata": {},
     "output_type": "execute_result"
    }
   ],
   "source": [
    "grad.shape"
   ]
  },
  {
   "cell_type": "code",
   "execution_count": 67,
   "metadata": {},
   "outputs": [
    {
     "data": {
      "text/plain": [
       "array([[0., 0., 0., 0., 0.]])"
      ]
     },
     "execution_count": 67,
     "metadata": {},
     "output_type": "execute_result"
    }
   ],
   "source": [
    "FCLU.weights_grad_accum"
   ]
  },
  {
   "cell_type": "code",
   "execution_count": 68,
   "metadata": {},
   "outputs": [
    {
     "data": {
      "text/plain": [
       "array([[0., 0., 0., 0., 0.]])"
      ]
     },
     "execution_count": 68,
     "metadata": {},
     "output_type": "execute_result"
    }
   ],
   "source": [
    "FCLU.biases_grad_accum"
   ]
  },
  {
   "cell_type": "code",
   "execution_count": 70,
   "metadata": {},
   "outputs": [
    {
     "data": {
      "text/plain": [
       "array([[-1.21041791e-03, -6.95445771e-05, -9.18640541e-05,\n",
       "         2.72756470e-03,  1.79094591e-04]])"
      ]
     },
     "execution_count": 70,
     "metadata": {},
     "output_type": "execute_result"
    }
   ],
   "source": [
    "FCLU.updateWeightsGradAccum(grad, t_inp=t)\n",
    "FCLU.weights_grad_accum\n"
   ]
  },
  {
   "cell_type": "code",
   "execution_count": 72,
   "metadata": {},
   "outputs": [
    {
     "data": {
      "text/plain": [
       "array([[-9.02192244e-04, -5.18354673e-05, -6.84714232e-05,\n",
       "         2.03300670e-03,  1.33489227e-04]])"
      ]
     },
     "execution_count": 72,
     "metadata": {},
     "output_type": "execute_result"
    }
   ],
   "source": [
    "FCLU.updateBiasesGradAccum(grad)\n",
    "FCLU.biases_grad_accum"
   ]
  },
  {
   "cell_type": "markdown",
   "metadata": {},
   "source": [
    "### Loop part 6: Update dhNext_dw"
   ]
  },
  {
   "cell_type": "code",
   "execution_count": 73,
   "metadata": {},
   "outputs": [
    {
     "data": {
      "text/plain": [
       "array([[-9.54249286e-08,  3.63345824e-08,  4.27520124e-08,\n",
       "        -1.20319617e-07, -1.63156032e-07]])"
      ]
     },
     "execution_count": 73,
     "metadata": {},
     "output_type": "execute_result"
    }
   ],
   "source": [
    "FCLW.backward(grad)"
   ]
  },
  {
   "cell_type": "code",
   "execution_count": 74,
   "metadata": {},
   "outputs": [],
   "source": [
    "dHnext_dW = FCLW.backward(grad)"
   ]
  },
  {
   "cell_type": "code",
   "execution_count": 75,
   "metadata": {},
   "outputs": [
    {
     "data": {
      "text/plain": [
       "array([[-9.54249286e-08,  3.63345824e-08,  4.27520124e-08,\n",
       "        -1.20319617e-07, -1.63156032e-07]])"
      ]
     },
     "execution_count": 75,
     "metadata": {},
     "output_type": "execute_result"
    }
   ],
   "source": [
    "dHnext_dW"
   ]
  },
  {
   "cell_type": "markdown",
   "metadata": {},
   "source": [
    "# Backwards Loop through Time"
   ]
  },
  {
   "cell_type": "code",
   "execution_count": 93,
   "metadata": {},
   "outputs": [
    {
     "data": {
      "text/plain": [
       "array([[3.02641757e-05, 4.06965304e-05, 2.20667899e-05]])"
      ]
     },
     "execution_count": 93,
     "metadata": {},
     "output_type": "execute_result"
    }
   ],
   "source": [
    "from Layers.InputLayer import InputLayer\n",
    "from Layers.FullyConnectedLayer import FullyConnectedLayer\n",
    "from Layers.TanhLayer import TanhLayer\n",
    "from Layers.LinearLayer import LinearLayer\n",
    "from LossFunctions.SquaredError import SquaredError\n",
    "\n",
    "# Create network\n",
    "IL = InputLayer(X)\n",
    "FCLU = FullyConnectedLayer(1, 5)\n",
    "ACT1 = TanhLayer()\n",
    "FCLW = FullyConnectedLayer(5, 5,)\n",
    "FCLV = FullyConnectedLayer(5, 3)\n",
    "ACT2 = LinearLayer()\n",
    "SE = SquaredError()\n",
    "\n",
    "for t in range(4):\n",
    "    IL_out = IL.forward(X[t])\n",
    "\n",
    "    if t > 0:\n",
    "        FCLU_out = FCLU.forward_with_feedback(IL_out, FCLW.getPrevOut()[t-1])\n",
    "    else:\n",
    "        FCLU_out = FCLU.forward(IL_out)\n",
    "\n",
    "    ACT1_out = ACT1.forward(FCLU_out)\n",
    "\n",
    "    FCLW_out = FCLW.forward(ACT1_out)\n",
    "\n",
    "    FCLV_out = FCLV.forward(ACT1_out)\n",
    "\n",
    "    ACT2_out = ACT2.forward(FCLV_out)\n",
    "\n",
    "ACT2_out"
   ]
  },
  {
   "cell_type": "code",
   "execution_count": 94,
   "metadata": {},
   "outputs": [],
   "source": [
    "dhNext_dW = np.zeros((1, 5)) # Same shape as what FCLV.backward(grad) is...\n",
    "\n",
    "# LOOP\n",
    "for t in range(len(X)-1, -1, -1):\n",
    "    grad = SE.gradient(y, ACT2.getPrevOut()[-1].reshape(y.shape)).reshape(1, -1)\n",
    "    grad = ACT2.backward(grad, t_inp=t)\n",
    "\n",
    "    FCLV.updateWeightsGradAccum(grad, t_inp=t)\n",
    "    FCLV.updateBiasesGradAccum(grad)\n",
    "\n",
    "    grad = FCLV.backward(grad) + dhNext_dW\n",
    "    grad = ACT1.backward(grad, t_inp=t)\n",
    "\n",
    "    if t > 0:\n",
    "        FCLW.updateWeightsGradAccum(grad, t_inp=t-1) # Have to use t-1\n",
    "        FCLW.updateBiasesGradAccum(grad)\n",
    "\n",
    "    FCLU.updateWeightsGradAccum(grad, t_inp=t)\n",
    "    FCLU.updateBiasesGradAccum(grad)\n",
    "\n",
    "    dHnext_dW = FCLW.backward(grad)"
   ]
  },
  {
   "cell_type": "markdown",
   "metadata": {},
   "source": [
    "### Update weights"
   ]
  },
  {
   "cell_type": "markdown",
   "metadata": {},
   "source": [
    "### FCLU"
   ]
  },
  {
   "cell_type": "code",
   "execution_count": 95,
   "metadata": {},
   "outputs": [
    {
     "data": {
      "text/plain": [
       "array([[ 3.80232549e-06,  5.41767821e-05,  1.37715981e-05,\n",
       "        -6.85802428e-06, -3.14622184e-05]])"
      ]
     },
     "execution_count": 95,
     "metadata": {},
     "output_type": "execute_result"
    }
   ],
   "source": [
    "FCLU.weights"
   ]
  },
  {
   "cell_type": "markdown",
   "metadata": {},
   "source": [
    "Vanishing gradient issue - because gradient is multiplied by small numbers multiple times, becomes small\n",
    "Have to use a big learning rate to see a noticeable change in weights"
   ]
  },
  {
   "cell_type": "code",
   "execution_count": 96,
   "metadata": {},
   "outputs": [
    {
     "data": {
      "text/plain": [
       "array([[ 1.42938504e-12,  9.89638569e-12, -1.88404392e-11,\n",
       "        -7.04559328e-12,  2.94355230e-12]])"
      ]
     },
     "execution_count": 96,
     "metadata": {},
     "output_type": "execute_result"
    }
   ],
   "source": [
    "FCLU.weights_grad_accum"
   ]
  },
  {
   "cell_type": "code",
   "execution_count": 97,
   "metadata": {},
   "outputs": [
    {
     "data": {
      "text/plain": [
       "array([[ 2.37294045e-06,  4.42803964e-05,  3.26120373e-05,\n",
       "         1.87568994e-07, -3.44057707e-05]])"
      ]
     },
     "execution_count": 97,
     "metadata": {},
     "output_type": "execute_result"
    }
   ],
   "source": [
    "FCLU.updateWeights(grad, eta=1e6) # Note not actually using grad because it's just using its own accumulated gradient\n",
    "FCLU.weights"
   ]
  },
  {
   "cell_type": "markdown",
   "metadata": {},
   "source": [
    "## FCLV"
   ]
  },
  {
   "cell_type": "code",
   "execution_count": 98,
   "metadata": {},
   "outputs": [
    {
     "data": {
      "text/plain": [
       "array([[-7.10908920e-05,  5.03055634e-05, -5.55901720e-05],\n",
       "       [ 3.87036487e-06,  5.70592056e-05, -9.55339144e-05],\n",
       "       [-3.51275081e-05,  7.45844753e-05,  6.89419215e-05],\n",
       "       [ 7.68811852e-06,  7.33216548e-05,  8.99611983e-05],\n",
       "       [ 6.52813995e-05,  7.08230888e-05, -8.02513196e-05]])"
      ]
     },
     "execution_count": 98,
     "metadata": {},
     "output_type": "execute_result"
    }
   ],
   "source": [
    "FCLV.weights"
   ]
  },
  {
   "cell_type": "code",
   "execution_count": 99,
   "metadata": {},
   "outputs": [
    {
     "data": {
      "text/plain": [
       "array([[ 0.00359178,  0.00431013,  0.00502851],\n",
       "       [ 0.00306073,  0.00367288,  0.00428504],\n",
       "       [ 0.00263211,  0.00315854,  0.00368497],\n",
       "       [-0.00412656, -0.00495187, -0.00577721],\n",
       "       [ 0.00162161,  0.00194594,  0.00227027]])"
      ]
     },
     "execution_count": 99,
     "metadata": {},
     "output_type": "execute_result"
    }
   ],
   "source": [
    "FCLV.weights_grad_accum"
   ]
  },
  {
   "cell_type": "code",
   "execution_count": 100,
   "metadata": {},
   "outputs": [],
   "source": [
    "FCLV.updateWeights(grad, eta=1e6) # Note not actually using grad because it's just using its own accumulated gradient"
   ]
  },
  {
   "cell_type": "code",
   "execution_count": 101,
   "metadata": {},
   "outputs": [
    {
     "data": {
      "text/plain": [
       "array([[-3591.77964978, -4310.13229805, -5028.50605066],\n",
       "       [-3060.73243145, -3672.87618441, -4285.03793351],\n",
       "       [-2632.11490608, -3158.53546506, -3684.97143845],\n",
       "       [ 4126.56454503,  4951.87390364,  5777.20719872],\n",
       "       [-1621.6147729 , -1945.93631461, -2270.26743849]])"
      ]
     },
     "execution_count": 101,
     "metadata": {},
     "output_type": "execute_result"
    }
   ],
   "source": [
    "FCLV.weights"
   ]
  },
  {
   "cell_type": "markdown",
   "metadata": {},
   "source": [
    "Weight change is pretty big for FCLV...maybe don't use a higher learning rate and accept FCLU weight may not change much?"
   ]
  },
  {
   "cell_type": "markdown",
   "metadata": {},
   "source": [
    "## FCLW"
   ]
  },
  {
   "cell_type": "code",
   "execution_count": 102,
   "metadata": {},
   "outputs": [
    {
     "data": {
      "text/plain": [
       "array([[ 6.23717395e-05,  7.49923290e-05,  3.76826505e-05,\n",
       "         1.38988825e-05, -6.78057126e-05],\n",
       "       [-6.62399545e-06, -3.09655898e-05, -5.49920084e-05,\n",
       "         1.85023738e-05, -3.75460325e-05],\n",
       "       [ 8.32611107e-05,  8.19271050e-05, -4.85763412e-05,\n",
       "        -7.78217399e-05, -6.14074536e-05],\n",
       "       [-8.31658642e-08,  4.57171336e-05, -5.83611123e-05,\n",
       "        -5.03932883e-05,  7.03343750e-05],\n",
       "       [-1.68302563e-05,  2.33370134e-05, -5.32667722e-05,\n",
       "        -7.96065481e-05,  3.17140339e-06]])"
      ]
     },
     "execution_count": 102,
     "metadata": {},
     "output_type": "execute_result"
    }
   ],
   "source": [
    "FCLW.weights"
   ]
  },
  {
   "cell_type": "code",
   "execution_count": 104,
   "metadata": {},
   "outputs": [
    {
     "data": {
      "text/plain": [
       "array([[-2.42045543e-07, -1.67849229e-07,  4.12451974e-07,\n",
       "         6.05778804e-07,  1.03642397e-07],\n",
       "       [-2.52257088e-07, -1.74930541e-07,  4.29852715e-07,\n",
       "         6.31335720e-07,  1.08014918e-07],\n",
       "       [-1.96559883e-07, -1.36306682e-07,  3.34943213e-07,\n",
       "         4.91939697e-07,  8.41657208e-08],\n",
       "       [ 2.80256298e-07,  1.94346911e-07, -4.77564105e-07,\n",
       "        -7.01410663e-07, -1.20004005e-07],\n",
       "       [-7.71453777e-08, -5.34973380e-08,  1.31457753e-07,\n",
       "         1.93075378e-07,  3.30331713e-08]])"
      ]
     },
     "execution_count": 104,
     "metadata": {},
     "output_type": "execute_result"
    }
   ],
   "source": [
    "FCLW.weights_grad_accum"
   ]
  },
  {
   "cell_type": "code",
   "execution_count": 105,
   "metadata": {},
   "outputs": [
    {
     "data": {
      "text/plain": [
       "array([[ 0.24210791,  0.16792422, -0.41241429, -0.6057649 , -0.1037102 ],\n",
       "       [ 0.25225046,  0.17489958, -0.42990771, -0.63131722, -0.10805246],\n",
       "       [ 0.19664314,  0.13638861, -0.33499179, -0.49201752, -0.08422713],\n",
       "       [-0.28025638, -0.19430119,  0.47750574,  0.70136027,  0.12007434],\n",
       "       [ 0.07712855,  0.05352068, -0.13151102, -0.19315498, -0.03303   ]])"
      ]
     },
     "execution_count": 105,
     "metadata": {},
     "output_type": "execute_result"
    }
   ],
   "source": [
    "FCLW.updateWeights(grad, eta=1e6) # Note not actually using grad because it's just using its own accumulated gradient\n",
    "FCLW.weights"
   ]
  },
  {
   "cell_type": "markdown",
   "metadata": {},
   "source": [
    "# Full Training"
   ]
  },
  {
   "cell_type": "code",
   "execution_count": 154,
   "metadata": {},
   "outputs": [
    {
     "data": {
      "text/plain": [
       "array([[ 1],\n",
       "       [ 4],\n",
       "       [ 9],\n",
       "       [16]])"
      ]
     },
     "execution_count": 154,
     "metadata": {},
     "output_type": "execute_result"
    }
   ],
   "source": [
    "import pandas as pd\n",
    "import numpy as np\n",
    "np.random.seed(seed=1)\n",
    "\n",
    "X = np.array([1, 4, 9, 16,]).reshape(-1,1)\n",
    "# y=np.array([5, 6]).reshape(-1,1)\n",
    "y=np.array([25, 36, 49]).reshape(-1,1)\n",
    "X\n"
   ]
  },
  {
   "cell_type": "code",
   "execution_count": 155,
   "metadata": {},
   "outputs": [],
   "source": [
    "from Layers.InputLayer import InputLayer\n",
    "from Layers.FullyConnectedLayer import FullyConnectedLayer\n",
    "from Layers.TanhLayer import TanhLayer\n",
    "from Layers.LinearLayer import LinearLayer\n",
    "from LossFunctions.SquaredError import SquaredError\n",
    "\n",
    "# Create network\n",
    "IL = InputLayer(X)\n",
    "FCLU = FullyConnectedLayer(1, 5)\n",
    "ACT1 = TanhLayer()\n",
    "FCLW = FullyConnectedLayer(5, 5,)\n",
    "FCLV = FullyConnectedLayer(5, 3)\n",
    "ACT2 = LinearLayer()\n",
    "SE = SquaredError()\n",
    "\n",
    "\n",
    "epochs = 50\n",
    "eta = 0.001\n",
    "training_dict = {\"epoch\": list(range(epochs)),\n",
    "                 \"squared_error\": [],\n",
    "                 \"y_preds\": [],}\n",
    "\n",
    "\n",
    "#TODO: Loop outputs can be more efficient. Keeping explicit as separate variables for tracking purposes\n",
    "for epoch in range(epochs):\n",
    "    # Forward\n",
    "    for t in range(len(X)):\n",
    "        IL_out = IL.forward(X[t])\n",
    "        if t > 0:\n",
    "            FCLU_out = FCLU.forward_with_feedback(IL_out, FCLW.getPrevOut()[t-1])\n",
    "        else:\n",
    "            FCLU_out = FCLU.forward(IL_out)\n",
    "        ACT1_out = ACT1.forward(FCLU_out)\n",
    "        FCLW_out = FCLW.forward(ACT1_out)\n",
    "        FCLV_out = FCLV.forward(ACT1_out)\n",
    "        ACT2_out = ACT2.forward(FCLV_out)\n",
    "\n",
    "    # Predictions and Loss\n",
    "    # training_dict[\"y_preds\"].append(ACT2_out.reshape(y.shape))\n",
    "    training_dict[\"y_preds\"].append(ACT2_out)\n",
    "\n",
    "    error = SE.eval(y, ACT2_out.reshape(y.shape))\n",
    "    training_dict[\"squared_error\"].append(error)\n",
    "\n",
    "    # Backward\n",
    "    dhNext_dW = np.zeros((1, 5)) # Same shape as what FCLV.backward(grad) is...\n",
    "    for t in range(len(X)-1, -1, -1):\n",
    "        grad = SE.gradient(y, ACT2.getPrevOut()[-1].reshape(y.shape)).reshape(1, -1)\n",
    "        grad = ACT2.backward(grad, t_inp=t)\n",
    "\n",
    "        FCLV.updateWeightsGradAccum(grad, t_inp=t)\n",
    "        FCLV.updateBiasesGradAccum(grad)\n",
    "\n",
    "        grad = FCLV.backward(grad) + dhNext_dW\n",
    "        grad = ACT1.backward(grad, t_inp=t)\n",
    "\n",
    "        if t > 0:\n",
    "            FCLW.updateWeightsGradAccum(grad, t_inp=t-1) # Have to use t-1\n",
    "            FCLW.updateBiasesGradAccum(grad)\n",
    "\n",
    "        FCLU.updateWeightsGradAccum(grad, t_inp=t)\n",
    "        FCLU.updateBiasesGradAccum(grad)\n",
    "\n",
    "        dHnext_dW = FCLW.backward(grad)\n",
    "\n",
    "    # Update weights   \n",
    "    FCLU.updateWeights(grad, eta=eta)\n",
    "    FCLV.updateWeights(grad, eta=eta)\n",
    "    FCLW.updateWeights(grad, eta=eta)"
   ]
  },
  {
   "cell_type": "markdown",
   "metadata": {},
   "source": [
    "## Examine Outputs"
   ]
  },
  {
   "cell_type": "code",
   "execution_count": 156,
   "metadata": {},
   "outputs": [
    {
     "data": {
      "text/html": [
       "<div>\n",
       "<style scoped>\n",
       "    .dataframe tbody tr th:only-of-type {\n",
       "        vertical-align: middle;\n",
       "    }\n",
       "\n",
       "    .dataframe tbody tr th {\n",
       "        vertical-align: top;\n",
       "    }\n",
       "\n",
       "    .dataframe thead th {\n",
       "        text-align: right;\n",
       "    }\n",
       "</style>\n",
       "<table border=\"1\" class=\"dataframe\">\n",
       "  <thead>\n",
       "    <tr style=\"text-align: right;\">\n",
       "      <th></th>\n",
       "      <th>epoch</th>\n",
       "      <th>squared_error</th>\n",
       "      <th>y_preds</th>\n",
       "    </tr>\n",
       "  </thead>\n",
       "  <tbody>\n",
       "    <tr>\n",
       "      <th>0</th>\n",
       "      <td>0</td>\n",
       "      <td>1440.670107</td>\n",
       "      <td>[[-8.93326375192174e-05, 1.4837065103524895e-0...</td>\n",
       "    </tr>\n",
       "    <tr>\n",
       "      <th>1</th>\n",
       "      <td>1</td>\n",
       "      <td>1417.711588</td>\n",
       "      <td>[[0.19991139059388552, 0.288014732403562, 0.39...</td>\n",
       "    </tr>\n",
       "    <tr>\n",
       "      <th>2</th>\n",
       "      <td>2</td>\n",
       "      <td>1372.527751</td>\n",
       "      <td>[[0.598312833250083, 0.8617105303790326, 1.172...</td>\n",
       "    </tr>\n",
       "    <tr>\n",
       "      <th>3</th>\n",
       "      <td>3</td>\n",
       "      <td>1306.561586</td>\n",
       "      <td>[[1.191927807114345, 1.716512705214113, 2.3362...</td>\n",
       "    </tr>\n",
       "    <tr>\n",
       "      <th>4</th>\n",
       "      <td>4</td>\n",
       "      <td>1221.919779</td>\n",
       "      <td>[[1.9760074730397288, 2.845582965665224, 3.873...</td>\n",
       "    </tr>\n",
       "    <tr>\n",
       "      <th>5</th>\n",
       "      <td>5</td>\n",
       "      <td>1121.305433</td>\n",
       "      <td>[[2.9442793789831656, 4.2398890289135736, 5.77...</td>\n",
       "    </tr>\n",
       "    <tr>\n",
       "      <th>6</th>\n",
       "      <td>6</td>\n",
       "      <td>1007.931737</td>\n",
       "      <td>[[4.088997691012933, 5.8882769520886, 8.014522...</td>\n",
       "    </tr>\n",
       "    <tr>\n",
       "      <th>7</th>\n",
       "      <td>7</td>\n",
       "      <td>885.419356</td>\n",
       "      <td>[[5.401005206832025, 7.777560430400468, 10.586...</td>\n",
       "    </tr>\n",
       "    <tr>\n",
       "      <th>8</th>\n",
       "      <td>8</td>\n",
       "      <td>757.680800</td>\n",
       "      <td>[[6.869806646586946, 9.892626334391547, 13.464...</td>\n",
       "    </tr>\n",
       "    <tr>\n",
       "      <th>9</th>\n",
       "      <td>9</td>\n",
       "      <td>628.795489</td>\n",
       "      <td>[[8.483652625891393, 12.216555629452177, 16.62...</td>\n",
       "    </tr>\n",
       "    <tr>\n",
       "      <th>10</th>\n",
       "      <td>10</td>\n",
       "      <td>502.879488</td>\n",
       "      <td>[[10.229633631806767, 14.730758699519583, 20.0...</td>\n",
       "    </tr>\n",
       "    <tr>\n",
       "      <th>11</th>\n",
       "      <td>11</td>\n",
       "      <td>383.954067</td>\n",
       "      <td>[[12.093783244594995, 17.415123984667, 23.7038...</td>\n",
       "    </tr>\n",
       "    <tr>\n",
       "      <th>12</th>\n",
       "      <td>12</td>\n",
       "      <td>275.817300</td>\n",
       "      <td>[[14.061189776894265, 20.24817873981376, 27.55...</td>\n",
       "    </tr>\n",
       "    <tr>\n",
       "      <th>13</th>\n",
       "      <td>13</td>\n",
       "      <td>181.922780</td>\n",
       "      <td>[[16.116115437961742, 23.20726062961775, 31.58...</td>\n",
       "    </tr>\n",
       "    <tr>\n",
       "      <th>14</th>\n",
       "      <td>14</td>\n",
       "      <td>105.269329</td>\n",
       "      <td>[[18.242122074070497, 26.268698793168717, 35.7...</td>\n",
       "    </tr>\n",
       "    <tr>\n",
       "      <th>15</th>\n",
       "      <td>15</td>\n",
       "      <td>48.305227</td>\n",
       "      <td>[[20.42220248722055, 29.408002941642586, 40.02...</td>\n",
       "    </tr>\n",
       "    <tr>\n",
       "      <th>16</th>\n",
       "      <td>16</td>\n",
       "      <td>12.850001</td>\n",
       "      <td>[[22.6389162930878, 32.60005899269171, 44.3722...</td>\n",
       "    </tr>\n",
       "    <tr>\n",
       "      <th>17</th>\n",
       "      <td>17</td>\n",
       "      <td>0.036286</td>\n",
       "      <td>[[24.874529245539993, 35.81932969696048, 48.75...</td>\n",
       "    </tr>\n",
       "    <tr>\n",
       "      <th>18</th>\n",
       "      <td>18</td>\n",
       "      <td>10.273612</td>\n",
       "      <td>[[27.111154928967498, 39.04005867454623, 53.13...</td>\n",
       "    </tr>\n",
       "    <tr>\n",
       "      <th>19</th>\n",
       "      <td>19</td>\n",
       "      <td>43.235261</td>\n",
       "      <td>[[29.330897700975907, 42.236476252278344, 57.4...</td>\n",
       "    </tr>\n",
       "    <tr>\n",
       "      <th>20</th>\n",
       "      <td>20</td>\n",
       "      <td>97.868648</td>\n",
       "      <td>[[31.515995756627742, 45.38300547631188, 61.77...</td>\n",
       "    </tr>\n",
       "    <tr>\n",
       "      <th>21</th>\n",
       "      <td>21</td>\n",
       "      <td>172.428867</td>\n",
       "      <td>[[33.64896318157011, 48.45446666896755, 65.951...</td>\n",
       "    </tr>\n",
       "    <tr>\n",
       "      <th>22</th>\n",
       "      <td>22</td>\n",
       "      <td>264.534366</td>\n",
       "      <td>[[35.712729865485, 51.426278904639624, 69.9969...</td>\n",
       "    </tr>\n",
       "    <tr>\n",
       "      <th>23</th>\n",
       "      <td>23</td>\n",
       "      <td>371.242962</td>\n",
       "      <td>[[37.69077816005901, 54.27465679796222, 73.873...</td>\n",
       "    </tr>\n",
       "    <tr>\n",
       "      <th>24</th>\n",
       "      <td>24</td>\n",
       "      <td>489.145782</td>\n",
       "      <td>[[39.567275187946805, 56.97680102951293, 77.55...</td>\n",
       "    </tr>\n",
       "    <tr>\n",
       "      <th>25</th>\n",
       "      <td>25</td>\n",
       "      <td>614.476130</td>\n",
       "      <td>[[41.32719974178921, 59.511081081282136, 81.00...</td>\n",
       "    </tr>\n",
       "    <tr>\n",
       "      <th>26</th>\n",
       "      <td>26</td>\n",
       "      <td>743.229816</td>\n",
       "      <td>[[42.95646275568947, 61.857208716592275, 84.19...</td>\n",
       "    </tr>\n",
       "    <tr>\n",
       "      <th>27</th>\n",
       "      <td>27</td>\n",
       "      <td>871.293092</td>\n",
       "      <td>[[44.442020385472745, 63.99640081685367, 87.10...</td>\n",
       "    </tr>\n",
       "    <tr>\n",
       "      <th>28</th>\n",
       "      <td>28</td>\n",
       "      <td>994.574124</td>\n",
       "      <td>[[45.77197879750799, 65.9115302789821, 89.7129...</td>\n",
       "    </tr>\n",
       "    <tr>\n",
       "      <th>29</th>\n",
       "      <td>29</td>\n",
       "      <td>1109.133782</td>\n",
       "      <td>[[46.93568983674784, 67.5872637794232, 91.9938...</td>\n",
       "    </tr>\n",
       "    <tr>\n",
       "      <th>30</th>\n",
       "      <td>30</td>\n",
       "      <td>1211.311595</td>\n",
       "      <td>[[47.92383681963152, 69.01018531874985, 93.930...</td>\n",
       "    </tr>\n",
       "    <tr>\n",
       "      <th>31</th>\n",
       "      <td>31</td>\n",
       "      <td>1297.842807</td>\n",
       "      <td>[[48.72850977209569, 70.16890456820431, 95.507...</td>\n",
       "    </tr>\n",
       "    <tr>\n",
       "      <th>32</th>\n",
       "      <td>32</td>\n",
       "      <td>1365.962824</td>\n",
       "      <td>[[49.34326950183434, 71.05414913865815, 96.712...</td>\n",
       "    </tr>\n",
       "    <tr>\n",
       "      <th>33</th>\n",
       "      <td>33</td>\n",
       "      <td>1413.495671</td>\n",
       "      <td>[[49.76319995225586, 71.65883997618076, 97.535...</td>\n",
       "    </tr>\n",
       "    <tr>\n",
       "      <th>34</th>\n",
       "      <td>34</td>\n",
       "      <td>1438.923621</td>\n",
       "      <td>[[49.984948331513216, 71.978149154136, 97.9703...</td>\n",
       "    </tr>\n",
       "    <tr>\n",
       "      <th>35</th>\n",
       "      <td>35</td>\n",
       "      <td>1441.435750</td>\n",
       "      <td>[[50.006752549072026, 72.00953938747202, 98.01...</td>\n",
       "    </tr>\n",
       "    <tr>\n",
       "      <th>36</th>\n",
       "      <td>36</td>\n",
       "      <td>1420.953805</td>\n",
       "      <td>[[49.828455541859014, 71.7527846657113, 97.663...</td>\n",
       "    </tr>\n",
       "    <tr>\n",
       "      <th>37</th>\n",
       "      <td>37</td>\n",
       "      <td>1378.134558</td>\n",
       "      <td>[[49.45150616199423, 71.20997153039386, 96.924...</td>\n",
       "    </tr>\n",
       "    <tr>\n",
       "      <th>38</th>\n",
       "      <td>38</td>\n",
       "      <td>1314.348537</td>\n",
       "      <td>[[48.87894646233064, 70.38548075948698, 95.802...</td>\n",
       "    </tr>\n",
       "    <tr>\n",
       "      <th>39</th>\n",
       "      <td>39</td>\n",
       "      <td>1231.635855</td>\n",
       "      <td>[[48.115385471532456, 69.28594959030248, 94.30...</td>\n",
       "    </tr>\n",
       "    <tr>\n",
       "      <th>40</th>\n",
       "      <td>40</td>\n",
       "      <td>1132.640597</td>\n",
       "      <td>[[47.166959871991274, 67.92021507729963, 92.44...</td>\n",
       "    </tr>\n",
       "    <tr>\n",
       "      <th>41</th>\n",
       "      <td>41</td>\n",
       "      <td>1020.525969</td>\n",
       "      <td>[[46.04128230479127, 66.29923963072208, 90.240...</td>\n",
       "    </tr>\n",
       "    <tr>\n",
       "      <th>42</th>\n",
       "      <td>42</td>\n",
       "      <td>898.872989</td>\n",
       "      <td>[[44.747378225362105, 64.43602007023148, 87.70...</td>\n",
       "    </tr>\n",
       "    <tr>\n",
       "      <th>43</th>\n",
       "      <td>43</td>\n",
       "      <td>771.566046</td>\n",
       "      <td>[[43.29561225503861, 62.34548155836484, 84.859...</td>\n",
       "    </tr>\n",
       "    <tr>\n",
       "      <th>44</th>\n",
       "      <td>44</td>\n",
       "      <td>642.668949</td>\n",
       "      <td>[[41.69760483505579, 60.04435757716443, 81.727...</td>\n",
       "    </tr>\n",
       "    <tr>\n",
       "      <th>45</th>\n",
       "      <td>45</td>\n",
       "      <td>516.295412</td>\n",
       "      <td>[[39.966139788082934, 57.55105681899312, 78.33...</td>\n",
       "    </tr>\n",
       "    <tr>\n",
       "      <th>46</th>\n",
       "      <td>46</td>\n",
       "      <td>396.478009</td>\n",
       "      <td>[[38.11506324651157, 54.88551765069183, 74.705...</td>\n",
       "    </tr>\n",
       "    <tr>\n",
       "      <th>47</th>\n",
       "      <td>47</td>\n",
       "      <td>287.039732</td>\n",
       "      <td>[[36.15917438758254, 52.069050782016596, 70.87...</td>\n",
       "    </tr>\n",
       "    <tr>\n",
       "      <th>48</th>\n",
       "      <td>48</td>\n",
       "      <td>191.472176</td>\n",
       "      <td>[[34.11410852037927, 49.12417092077938, 66.863...</td>\n",
       "    </tr>\n",
       "    <tr>\n",
       "      <th>49</th>\n",
       "      <td>49</td>\n",
       "      <td>112.824243</td>\n",
       "      <td>[[31.9962132444632, 46.07441844968262, 62.7124...</td>\n",
       "    </tr>\n",
       "  </tbody>\n",
       "</table>\n",
       "</div>"
      ],
      "text/plain": [
       "    epoch  squared_error                                            y_preds\n",
       "0       0    1440.670107  [[-8.93326375192174e-05, 1.4837065103524895e-0...\n",
       "1       1    1417.711588  [[0.19991139059388552, 0.288014732403562, 0.39...\n",
       "2       2    1372.527751  [[0.598312833250083, 0.8617105303790326, 1.172...\n",
       "3       3    1306.561586  [[1.191927807114345, 1.716512705214113, 2.3362...\n",
       "4       4    1221.919779  [[1.9760074730397288, 2.845582965665224, 3.873...\n",
       "5       5    1121.305433  [[2.9442793789831656, 4.2398890289135736, 5.77...\n",
       "6       6    1007.931737  [[4.088997691012933, 5.8882769520886, 8.014522...\n",
       "7       7     885.419356  [[5.401005206832025, 7.777560430400468, 10.586...\n",
       "8       8     757.680800  [[6.869806646586946, 9.892626334391547, 13.464...\n",
       "9       9     628.795489  [[8.483652625891393, 12.216555629452177, 16.62...\n",
       "10     10     502.879488  [[10.229633631806767, 14.730758699519583, 20.0...\n",
       "11     11     383.954067  [[12.093783244594995, 17.415123984667, 23.7038...\n",
       "12     12     275.817300  [[14.061189776894265, 20.24817873981376, 27.55...\n",
       "13     13     181.922780  [[16.116115437961742, 23.20726062961775, 31.58...\n",
       "14     14     105.269329  [[18.242122074070497, 26.268698793168717, 35.7...\n",
       "15     15      48.305227  [[20.42220248722055, 29.408002941642586, 40.02...\n",
       "16     16      12.850001  [[22.6389162930878, 32.60005899269171, 44.3722...\n",
       "17     17       0.036286  [[24.874529245539993, 35.81932969696048, 48.75...\n",
       "18     18      10.273612  [[27.111154928967498, 39.04005867454623, 53.13...\n",
       "19     19      43.235261  [[29.330897700975907, 42.236476252278344, 57.4...\n",
       "20     20      97.868648  [[31.515995756627742, 45.38300547631188, 61.77...\n",
       "21     21     172.428867  [[33.64896318157011, 48.45446666896755, 65.951...\n",
       "22     22     264.534366  [[35.712729865485, 51.426278904639624, 69.9969...\n",
       "23     23     371.242962  [[37.69077816005901, 54.27465679796222, 73.873...\n",
       "24     24     489.145782  [[39.567275187946805, 56.97680102951293, 77.55...\n",
       "25     25     614.476130  [[41.32719974178921, 59.511081081282136, 81.00...\n",
       "26     26     743.229816  [[42.95646275568947, 61.857208716592275, 84.19...\n",
       "27     27     871.293092  [[44.442020385472745, 63.99640081685367, 87.10...\n",
       "28     28     994.574124  [[45.77197879750799, 65.9115302789821, 89.7129...\n",
       "29     29    1109.133782  [[46.93568983674784, 67.5872637794232, 91.9938...\n",
       "30     30    1211.311595  [[47.92383681963152, 69.01018531874985, 93.930...\n",
       "31     31    1297.842807  [[48.72850977209569, 70.16890456820431, 95.507...\n",
       "32     32    1365.962824  [[49.34326950183434, 71.05414913865815, 96.712...\n",
       "33     33    1413.495671  [[49.76319995225586, 71.65883997618076, 97.535...\n",
       "34     34    1438.923621  [[49.984948331513216, 71.978149154136, 97.9703...\n",
       "35     35    1441.435750  [[50.006752549072026, 72.00953938747202, 98.01...\n",
       "36     36    1420.953805  [[49.828455541859014, 71.7527846657113, 97.663...\n",
       "37     37    1378.134558  [[49.45150616199423, 71.20997153039386, 96.924...\n",
       "38     38    1314.348537  [[48.87894646233064, 70.38548075948698, 95.802...\n",
       "39     39    1231.635855  [[48.115385471532456, 69.28594959030248, 94.30...\n",
       "40     40    1132.640597  [[47.166959871991274, 67.92021507729963, 92.44...\n",
       "41     41    1020.525969  [[46.04128230479127, 66.29923963072208, 90.240...\n",
       "42     42     898.872989  [[44.747378225362105, 64.43602007023148, 87.70...\n",
       "43     43     771.566046  [[43.29561225503861, 62.34548155836484, 84.859...\n",
       "44     44     642.668949  [[41.69760483505579, 60.04435757716443, 81.727...\n",
       "45     45     516.295412  [[39.966139788082934, 57.55105681899312, 78.33...\n",
       "46     46     396.478009  [[38.11506324651157, 54.88551765069183, 74.705...\n",
       "47     47     287.039732  [[36.15917438758254, 52.069050782016596, 70.87...\n",
       "48     48     191.472176  [[34.11410852037927, 49.12417092077938, 66.863...\n",
       "49     49     112.824243  [[31.9962132444632, 46.07441844968262, 62.7124..."
      ]
     },
     "execution_count": 156,
     "metadata": {},
     "output_type": "execute_result"
    }
   ],
   "source": [
    "df = pd.DataFrame(training_dict)\n",
    "df"
   ]
  },
  {
   "cell_type": "code",
   "execution_count": 157,
   "metadata": {},
   "outputs": [
    {
     "data": {
      "text/plain": [
       "array([[24.87452925, 35.8193297 , 48.75408439]])"
      ]
     },
     "execution_count": 157,
     "metadata": {},
     "output_type": "execute_result"
    }
   ],
   "source": [
    "df[\"y_preds\"].loc[17] # where min is"
   ]
  },
  {
   "cell_type": "markdown",
   "metadata": {},
   "source": [
    "## Plot errors"
   ]
  },
  {
   "cell_type": "code",
   "execution_count": 158,
   "metadata": {},
   "outputs": [
    {
     "data": {
      "text/plain": [
       "<AxesSubplot: xlabel='epoch'>"
      ]
     },
     "execution_count": 158,
     "metadata": {},
     "output_type": "execute_result"
    },
    {
     "data": {
      "image/png": "[encoded data removed]",
      "text/plain": [
       "<Figure size 432x288 with 1 Axes>"
      ]
     },
     "metadata": {
      "needs_background": "light"
     },
     "output_type": "display_data"
    }
   ],
   "source": [
    "df.plot(x=\"epoch\", y=\"squared_error\")"
   ]
  },
  {
   "cell_type": "markdown",
   "metadata": {},
   "source": [
    "Error reaches a minimum then goes back?\n",
    "* Wonder if it has to do with one of the layers' weights not changing enough due to vanishing gradients\n",
    "* Is the tanh doing something?"
   ]
  },
  {
   "cell_type": "code",
   "execution_count": 159,
   "metadata": {},
   "outputs": [
    {
     "data": {
      "text/plain": [
       "array([array([[-8.93326375e-05,  1.48370651e-05, -7.06498145e-05]]),\n",
       "       array([[ 8.48365263, 12.21655563, 16.62802892]]),\n",
       "       array([[24.87452925, 35.8193297 , 48.75408439]])], dtype=object)"
      ]
     },
     "execution_count": 159,
     "metadata": {},
     "output_type": "execute_result"
    }
   ],
   "source": [
    "graph_index_lst = [0, 9, 17]\n",
    "y_preds_graph = df[\"y_preds\"].loc[graph_index_lst].to_numpy()\n",
    "y_preds_graph"
   ]
  },
  {
   "cell_type": "code",
   "execution_count": 160,
   "metadata": {},
   "outputs": [
    {
     "data": {
      "image/png": "[encoded data removed]",
      "text/plain": [
       "<Figure size 720x432 with 1 Axes>"
      ]
     },
     "metadata": {
      "needs_background": "light"
     },
     "output_type": "display_data"
    }
   ],
   "source": [
    "import matplotlib.pyplot as plt\n",
    "\n",
    "fig, ax = plt.subplots(figsize=(10, 6))\n",
    "t_vals_x = np.arange(len(X))\n",
    "t_vals_y = np.arange(len(X), len(X)+len(y))\n",
    "\n",
    "ax.plot(t_vals_x, X.flatten(), color=\"green\", linestyle=\"solid\", label=\"Training Sequence\", linewidth=2, marker=\"o\")\n",
    "ax.plot(t_vals_y, y.flatten(), color=\"blue\", linestyle=\"solid\", label=\"Predict Sequence\", linewidth=2, marker=\"o\")\n",
    "\n",
    "colors = [\"red\", \"magenta\", \"purple\"]\n",
    "for ind, y_pred_seq, color in zip(graph_index_lst, y_preds_graph, colors):\n",
    "    ax.plot(t_vals_y, y_pred_seq.flatten(), color = color, linestyle=\"dashed\", label=f\"{ind} epochs\", linewidth=2, marker=\"x\")\n",
    "\n",
    "\n",
    "ax.set_xlabel(\"Time\", fontsize=16)\n",
    "ax.set_ylabel(\"y(t)\", fontsize=16)\n",
    "ax.set_title(f\"Predictions at Different Epochs, $\\eta$ = {eta}\", \n",
    "             fontsize=16)\n",
    "ax.tick_params(axis=\"x\", labelsize=14)\n",
    "ax.tick_params(axis=\"y\", labelsize=14)\n",
    "ax.legend(fontsize=14)\n",
    "ax.grid()\n",
    "plt.show()"
   ]
  },
  {
   "cell_type": "code",
   "execution_count": null,
   "metadata": {},
   "outputs": [],
   "source": [
    "\n",
    "\n",
    "\n",
    "ax.set_xlabel(\"Epochs\", fontsize=16)\n",
    "ax.set_ylabel(\"Cross Entropy Loss\", fontsize=16)\n",
    "ax.set_title(f\"Cross Entropy Loss vs. Epochs for Happy Face Images, $\\eta$ = {eta}\", \n",
    "             fontsize=16)\n",
    "\n",
    "ax.tick_params(axis=\"x\", labelsize=14)\n",
    "ax.tick_params(axis=\"y\", labelsize=14)\n",
    "\n",
    "ax.legend(fontsize=14)\n",
    "ax.grid()\n",
    "plt.show()"
   ]
  }
 ],
 "metadata": {
  "kernelspec": {
   "display_name": "ds",
   "language": "python",
   "name": "python3"
  },
  "language_info": {
   "codemirror_mode": {
    "name": "ipython",
    "version": 3
   },
   "file_extension": ".py",
   "mimetype": "text/x-python",
   "name": "python",
   "nbconvert_exporter": "python",
   "pygments_lexer": "ipython3",
   "version": "3.9.13"
  }
 },
 "nbformat": 4,
 "nbformat_minor": 2
}
