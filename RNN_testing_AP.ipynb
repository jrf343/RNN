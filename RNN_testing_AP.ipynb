{
 "cells": [
  {
   "cell_type": "code",
   "execution_count": 1,
   "metadata": {},
   "outputs": [
    {
     "data": {
      "text/plain": [
       "array([[1],\n",
       "       [2],\n",
       "       [3],\n",
       "       [4]])"
      ]
     },
     "execution_count": 1,
     "metadata": {},
     "output_type": "execute_result"
    }
   ],
   "source": [
    "import pandas as pd\n",
    "import numpy as np\n",
    "np.random.seed(seed=1)\n",
    "\n",
    "X = np.array([1, 2, 3, 4,]).reshape(-1,1)\n",
    "# y=np.array([5, 6]).reshape(-1,1)\n",
    "y=np.array([5, 6, 7]).reshape(-1,1)\n",
    "X\n"
   ]
  },
  {
   "cell_type": "code",
   "execution_count": 2,
   "metadata": {},
   "outputs": [
    {
     "data": {
      "text/plain": [
       "array([[5],\n",
       "       [6],\n",
       "       [7]])"
      ]
     },
     "execution_count": 2,
     "metadata": {},
     "output_type": "execute_result"
    }
   ],
   "source": [
    "y"
   ]
  },
  {
   "cell_type": "markdown",
   "metadata": {},
   "source": [
    "# Test Forward Individual"
   ]
  },
  {
   "cell_type": "code",
   "execution_count": 3,
   "metadata": {},
   "outputs": [],
   "source": [
    "from Layers.InputLayer import InputLayer\n",
    "from Layers.FullyConnectedLayer import FullyConnectedLayer\n",
    "from Layers.TanhLayer import TanhLayer\n",
    "from Layers.LinearLayer import LinearLayer\n",
    "from LossFunctions.SquaredError import SquaredError\n",
    "\n",
    "# Create network\n",
    "IL = InputLayer(X)\n",
    "FCLU = FullyConnectedLayer(1, 5)\n",
    "ACT1 = TanhLayer()\n",
    "FCLW = FullyConnectedLayer(5, 5,)\n",
    "FCLV = FullyConnectedLayer(5, 3)\n",
    "ACT2 = LinearLayer()\n",
    "SE = SquaredError()"
   ]
  },
  {
   "cell_type": "markdown",
   "metadata": {},
   "source": [
    "## IL"
   ]
  },
  {
   "cell_type": "code",
   "execution_count": 4,
   "metadata": {},
   "outputs": [
    {
     "data": {
      "text/plain": [
       "array([-1.34164079])"
      ]
     },
     "execution_count": 4,
     "metadata": {},
     "output_type": "execute_result"
    }
   ],
   "source": [
    "t = 0\n",
    "IL_out = IL.forward(X[t])\n",
    "IL_out"
   ]
  },
  {
   "cell_type": "markdown",
   "metadata": {},
   "source": [
    "## FCLU"
   ]
  },
  {
   "cell_type": "code",
   "execution_count": 5,
   "metadata": {},
   "outputs": [
    {
     "data": {
      "text/plain": [
       "array([[-5.92669485e-05, -1.21867223e-04,  1.03245534e-04,\n",
       "         3.23932314e-05,  1.02548688e-04]])"
      ]
     },
     "execution_count": 5,
     "metadata": {},
     "output_type": "execute_result"
    }
   ],
   "source": [
    "if t > 0:\n",
    "    FCLU_out = FCLU.forward_with_feedback(IL_out, FCLW.getPrevOut())\n",
    "else:\n",
    "    FCLU_out = FCLU.forward(IL_out)\n",
    "FCLU_out"
   ]
  },
  {
   "cell_type": "code",
   "execution_count": 6,
   "metadata": {},
   "outputs": [
    {
     "data": {
      "text/plain": [
       "(1, 5)"
      ]
     },
     "execution_count": 6,
     "metadata": {},
     "output_type": "execute_result"
    }
   ],
   "source": [
    "FCLU_out.shape"
   ]
  },
  {
   "cell_type": "markdown",
   "metadata": {},
   "source": [
    "## ACT1"
   ]
  },
  {
   "cell_type": "code",
   "execution_count": 7,
   "metadata": {},
   "outputs": [
    {
     "data": {
      "text/plain": [
       "array([[-5.92669484e-05, -1.21867222e-04,  1.03245534e-04,\n",
       "         3.23932314e-05,  1.02548687e-04]])"
      ]
     },
     "execution_count": 7,
     "metadata": {},
     "output_type": "execute_result"
    }
   ],
   "source": [
    "ACT1_out = ACT1.forward(FCLU_out)\n",
    "ACT1_out"
   ]
  },
  {
   "cell_type": "code",
   "execution_count": 8,
   "metadata": {},
   "outputs": [
    {
     "data": {
      "text/plain": [
       "[array([[-5.92669485e-05, -1.21867223e-04,  1.03245534e-04,\n",
       "          3.23932314e-05,  1.02548688e-04]])]"
      ]
     },
     "execution_count": 8,
     "metadata": {},
     "output_type": "execute_result"
    }
   ],
   "source": [
    "ACT1.getPrevIn()"
   ]
  },
  {
   "cell_type": "code",
   "execution_count": 9,
   "metadata": {},
   "outputs": [
    {
     "data": {
      "text/plain": [
       "[array([[-5.92669484e-05, -1.21867222e-04,  1.03245534e-04,\n",
       "          3.23932314e-05,  1.02548687e-04]])]"
      ]
     },
     "execution_count": 9,
     "metadata": {},
     "output_type": "execute_result"
    }
   ],
   "source": [
    "ACT1.getPrevOut()"
   ]
  },
  {
   "cell_type": "markdown",
   "metadata": {},
   "source": [
    "## FCLW (feedback)"
   ]
  },
  {
   "cell_type": "code",
   "execution_count": 10,
   "metadata": {},
   "outputs": [
    {
     "data": {
      "text/plain": [
       "array([[-3.68995420e-05,  3.73053684e-05,  6.69297594e-05,\n",
       "        -9.63355490e-05,  5.00559807e-05]])"
      ]
     },
     "execution_count": 10,
     "metadata": {},
     "output_type": "execute_result"
    }
   ],
   "source": [
    "FCLW_out = FCLW.forward(ACT1_out)\n",
    "FCLW_out"
   ]
  },
  {
   "cell_type": "markdown",
   "metadata": {},
   "source": [
    "## FCLV"
   ]
  },
  {
   "cell_type": "code",
   "execution_count": 11,
   "metadata": {},
   "outputs": [
    {
     "data": {
      "text/plain": [
       "array([[-8.93402106e-05,  1.48180661e-05, -7.06538090e-05]])"
      ]
     },
     "execution_count": 11,
     "metadata": {},
     "output_type": "execute_result"
    }
   ],
   "source": [
    "FCLV_out = FCLV.forward(ACT1_out)\n",
    "FCLV_out"
   ]
  },
  {
   "cell_type": "code",
   "execution_count": 12,
   "metadata": {},
   "outputs": [
    {
     "data": {
      "text/plain": [
       "[array([[-5.92669484e-05, -1.21867222e-04,  1.03245534e-04,\n",
       "          3.23932314e-05,  1.02548687e-04]])]"
      ]
     },
     "execution_count": 12,
     "metadata": {},
     "output_type": "execute_result"
    }
   ],
   "source": [
    "FCLV.getPrevIn()"
   ]
  },
  {
   "cell_type": "markdown",
   "metadata": {},
   "source": [
    "## ACT2 - Linear"
   ]
  },
  {
   "cell_type": "code",
   "execution_count": 13,
   "metadata": {},
   "outputs": [
    {
     "data": {
      "text/plain": [
       "array([[-8.93402106e-05,  1.48180661e-05, -7.06538090e-05]])"
      ]
     },
     "execution_count": 13,
     "metadata": {},
     "output_type": "execute_result"
    }
   ],
   "source": [
    "ACT2_out = ACT2.forward(FCLV_out)\n",
    "ACT2_out"
   ]
  },
  {
   "cell_type": "code",
   "execution_count": 14,
   "metadata": {},
   "outputs": [
    {
     "data": {
      "text/plain": [
       "[array([[-8.93402106e-05,  1.48180661e-05, -7.06538090e-05]])]"
      ]
     },
     "execution_count": 14,
     "metadata": {},
     "output_type": "execute_result"
    }
   ],
   "source": [
    "ACT2.getPrevIn()"
   ]
  },
  {
   "cell_type": "code",
   "execution_count": 15,
   "metadata": {},
   "outputs": [
    {
     "data": {
      "text/plain": [
       "[array([[-8.93402106e-05,  1.48180661e-05, -7.06538090e-05]])]"
      ]
     },
     "execution_count": 15,
     "metadata": {},
     "output_type": "execute_result"
    }
   ],
   "source": [
    "ACT2.getPrevOut()"
   ]
  },
  {
   "cell_type": "code",
   "execution_count": null,
   "metadata": {},
   "outputs": [],
   "source": []
  },
  {
   "cell_type": "markdown",
   "metadata": {},
   "source": [
    "# Forward Altogether"
   ]
  },
  {
   "cell_type": "code",
   "execution_count": 44,
   "metadata": {},
   "outputs": [],
   "source": [
    "from Layers.InputLayer import InputLayer\n",
    "from Layers.FullyConnectedLayer import FullyConnectedLayer\n",
    "from Layers.TanhLayer import TanhLayer\n",
    "from Layers.LinearLayer import LinearLayer\n",
    "from LossFunctions.SquaredError import SquaredError\n",
    "\n",
    "# Create network\n",
    "IL = InputLayer(X)\n",
    "FCLU = FullyConnectedLayer(1, 5)\n",
    "ACT1 = TanhLayer()\n",
    "FCLW = FullyConnectedLayer(5, 5,)\n",
    "FCLV = FullyConnectedLayer(5, 3)\n",
    "ACT2 = LinearLayer()\n",
    "SE = SquaredError()"
   ]
  },
  {
   "cell_type": "code",
   "execution_count": 45,
   "metadata": {},
   "outputs": [
    {
     "data": {
      "text/plain": [
       "array([[ 9.77261633e-05,  1.59506575e-05, -2.39590095e-05]])"
      ]
     },
     "execution_count": 45,
     "metadata": {},
     "output_type": "execute_result"
    }
   ],
   "source": [
    "for t in range(4):\n",
    "    IL_out = IL.forward(X[t])\n",
    "\n",
    "    if t > 0:\n",
    "        FCLU_out = FCLU.forward_with_feedback(IL_out, FCLW.getPrevOut()[t-1])\n",
    "    else:\n",
    "        FCLU_out = FCLU.forward(IL_out)\n",
    "\n",
    "    ACT1_out = ACT1.forward(FCLU_out)\n",
    "\n",
    "    FCLW_out = FCLW.forward(ACT1_out)\n",
    "\n",
    "    FCLV_out = FCLV.forward(ACT1_out)\n",
    "\n",
    "    ACT2_out = ACT2.forward(FCLV_out)\n",
    "\n",
    "ACT2_out"
   ]
  },
  {
   "cell_type": "code",
   "execution_count": 46,
   "metadata": {},
   "outputs": [
    {
     "data": {
      "text/plain": [
       "array([[4.99990227],\n",
       "       [5.99998405],\n",
       "       [7.00002396]])"
      ]
     },
     "execution_count": 46,
     "metadata": {},
     "output_type": "execute_result"
    }
   ],
   "source": [
    "y - ACT2_out.reshape(y.shape)"
   ]
  },
  {
   "cell_type": "code",
   "execution_count": 47,
   "metadata": {},
   "outputs": [
    {
     "data": {
      "text/plain": [
       "36.666388922329226"
      ]
     },
     "execution_count": 47,
     "metadata": {},
     "output_type": "execute_result"
    }
   ],
   "source": [
    "SE_out = SE.eval(y, ACT2_out.reshape(y.shape)) # Using only the last output from sequence to evaluate the loss\n",
    "SE_out"
   ]
  },
  {
   "cell_type": "markdown",
   "metadata": {},
   "source": [
    "# Test Backward individual"
   ]
  },
  {
   "cell_type": "code",
   "execution_count": 48,
   "metadata": {},
   "outputs": [
    {
     "name": "stdout",
     "output_type": "stream",
     "text": [
      "3\n",
      "2\n",
      "1\n",
      "0\n"
     ]
    }
   ],
   "source": [
    "for t in range(len(X)-1, -1, -1):\n",
    "    print(t)"
   ]
  },
  {
   "cell_type": "code",
   "execution_count": 49,
   "metadata": {},
   "outputs": [
    {
     "data": {
      "text/plain": [
       "array([[ 9.77261633e-05,  1.59506575e-05, -2.39590095e-05]])"
      ]
     },
     "execution_count": 49,
     "metadata": {},
     "output_type": "execute_result"
    }
   ],
   "source": [
    "ACT2.getPrevOut()[-1]"
   ]
  },
  {
   "cell_type": "markdown",
   "metadata": {},
   "source": [
    "## Loop part 1: SE -> ACT 1 ->"
   ]
  },
  {
   "cell_type": "code",
   "execution_count": 12,
   "metadata": {},
   "outputs": [
    {
     "data": {
      "text/plain": [
       "array([[5],\n",
       "       [6],\n",
       "       [7]])"
      ]
     },
     "execution_count": 12,
     "metadata": {},
     "output_type": "execute_result"
    }
   ],
   "source": [
    "y"
   ]
  },
  {
   "cell_type": "code",
   "execution_count": 13,
   "metadata": {},
   "outputs": [
    {
     "data": {
      "text/plain": [
       "array([[ 3.93518549e-05, -8.68090426e-05,  5.11231601e-05]])"
      ]
     },
     "execution_count": 13,
     "metadata": {},
     "output_type": "execute_result"
    }
   ],
   "source": [
    "ACT2.getPrevOut()[-1] # Need to reshape..."
   ]
  },
  {
   "cell_type": "code",
   "execution_count": 50,
   "metadata": {},
   "outputs": [
    {
     "data": {
      "text/plain": [
       "array([[ -9.99980455, -11.9999681 , -14.00004792]])"
      ]
     },
     "execution_count": 50,
     "metadata": {},
     "output_type": "execute_result"
    }
   ],
   "source": [
    "grad = SE.gradient(y, ACT2.getPrevOut()[-1].reshape(y.shape)).reshape(1, -1)\n",
    "grad"
   ]
  },
  {
   "cell_type": "code",
   "execution_count": 51,
   "metadata": {},
   "outputs": [
    {
     "data": {
      "text/plain": [
       "array([[ -9.99980455, -11.9999681 , -14.00004792]])"
      ]
     },
     "execution_count": 51,
     "metadata": {},
     "output_type": "execute_result"
    }
   ],
   "source": [
    "grad = ACT2.backward(grad, t_inp=3) \n",
    "grad"
   ]
  },
  {
   "cell_type": "markdown",
   "metadata": {},
   "source": [
    "## Loop Part 2: Update FCLV Gradients"
   ]
  },
  {
   "cell_type": "markdown",
   "metadata": {},
   "source": [
    "### Weights grad accumulator"
   ]
  },
  {
   "cell_type": "code",
   "execution_count": 52,
   "metadata": {},
   "outputs": [
    {
     "data": {
      "text/plain": [
       "array([[0., 0., 0.],\n",
       "       [0., 0., 0.],\n",
       "       [0., 0., 0.],\n",
       "       [0., 0., 0.],\n",
       "       [0., 0., 0.]])"
      ]
     },
     "execution_count": 52,
     "metadata": {},
     "output_type": "execute_result"
    }
   ],
   "source": [
    "FCLV.weights_grad_accum"
   ]
  },
  {
   "cell_type": "code",
   "execution_count": 53,
   "metadata": {},
   "outputs": [
    {
     "data": {
      "text/plain": [
       "array([[-0.00066809, -0.00080172, -0.00093535],\n",
       "       [-0.00032795, -0.00039354, -0.00045914],\n",
       "       [ 0.00053343,  0.00064013,  0.00074682],\n",
       "       [ 0.00078355,  0.00094027,  0.00109699],\n",
       "       [ 0.00072296,  0.00086756,  0.00101216]])"
      ]
     },
     "execution_count": 53,
     "metadata": {},
     "output_type": "execute_result"
    }
   ],
   "source": [
    "FCLV.updateWeightsGradAccum(grad, t_inp=3)\n",
    "FCLV.weights_grad_accum"
   ]
  },
  {
   "cell_type": "markdown",
   "metadata": {},
   "source": [
    "### Biases grad accumulator"
   ]
  },
  {
   "cell_type": "code",
   "execution_count": 54,
   "metadata": {},
   "outputs": [
    {
     "data": {
      "text/plain": [
       "array([[0., 0., 0.]])"
      ]
     },
     "execution_count": 54,
     "metadata": {},
     "output_type": "execute_result"
    }
   ],
   "source": [
    "FCLV.biases_grad_accum"
   ]
  },
  {
   "cell_type": "code",
   "execution_count": 55,
   "metadata": {},
   "outputs": [
    {
     "data": {
      "text/plain": [
       "array([[ -9.99980455, -11.9999681 , -14.00004792]])"
      ]
     },
     "execution_count": 55,
     "metadata": {},
     "output_type": "execute_result"
    }
   ],
   "source": [
    "FCLV.updateBiasesGradAccum(grad)\n",
    "FCLV.biases_grad_accum"
   ]
  },
  {
   "cell_type": "markdown",
   "metadata": {},
   "source": [
    "## Loop Part 3: Send backward through FCLV and ACT1"
   ]
  },
  {
   "cell_type": "code",
   "execution_count": 56,
   "metadata": {},
   "outputs": [
    {
     "data": {
      "text/plain": [
       "array([[0., 0., 0., 0., 0.]])"
      ]
     },
     "execution_count": 56,
     "metadata": {},
     "output_type": "execute_result"
    }
   ],
   "source": [
    "dhNext_dW = np.zeros((1, 5)) # Same shape as what FCLV.backward(grad) is...\n",
    "dhNext_dW"
   ]
  },
  {
   "cell_type": "code",
   "execution_count": 57,
   "metadata": {},
   "outputs": [
    {
     "data": {
      "text/plain": [
       "array([[-9.02192248e-04, -5.18354673e-05, -6.84714234e-05,\n",
       "         2.03300671e-03,  1.33489228e-04]])"
      ]
     },
     "execution_count": 57,
     "metadata": {},
     "output_type": "execute_result"
    }
   ],
   "source": [
    "grad = FCLV.backward(grad) + dhNext_dW\n",
    "grad"
   ]
  },
  {
   "cell_type": "code",
   "execution_count": 58,
   "metadata": {},
   "outputs": [
    {
     "data": {
      "text/plain": [
       "array([[-9.02192244e-04, -5.18354673e-05, -6.84714232e-05,\n",
       "         2.03300670e-03,  1.33489227e-04]])"
      ]
     },
     "execution_count": 58,
     "metadata": {},
     "output_type": "execute_result"
    }
   ],
   "source": [
    "grad = ACT1.backward(grad, t_inp=3)\n",
    "grad"
   ]
  },
  {
   "cell_type": "markdown",
   "metadata": {},
   "source": [
    "## Loop part 4: Update FCLW gradients if t>0"
   ]
  },
  {
   "cell_type": "code",
   "execution_count": 60,
   "metadata": {},
   "outputs": [
    {
     "data": {
      "text/plain": [
       "3"
      ]
     },
     "execution_count": 60,
     "metadata": {},
     "output_type": "execute_result"
    }
   ],
   "source": [
    "t = 3\n",
    "t"
   ]
  },
  {
   "cell_type": "code",
   "execution_count": 61,
   "metadata": {},
   "outputs": [
    {
     "data": {
      "text/plain": [
       "array([[0., 0., 0., 0., 0.],\n",
       "       [0., 0., 0., 0., 0.],\n",
       "       [0., 0., 0., 0., 0.],\n",
       "       [0., 0., 0., 0., 0.],\n",
       "       [0., 0., 0., 0., 0.]])"
      ]
     },
     "execution_count": 61,
     "metadata": {},
     "output_type": "execute_result"
    }
   ],
   "source": [
    "FCLW.weights_grad_accum"
   ]
  },
  {
   "cell_type": "code",
   "execution_count": 62,
   "metadata": {},
   "outputs": [
    {
     "data": {
      "text/plain": [
       "array([[0., 0., 0., 0., 0.]])"
      ]
     },
     "execution_count": 62,
     "metadata": {},
     "output_type": "execute_result"
    }
   ],
   "source": [
    "FCLW.biases_grad_accum"
   ]
  },
  {
   "cell_type": "markdown",
   "metadata": {},
   "source": [
    "(Looking at class notes): h2(t-1) is the t-1'th output of ACT1 i.e. the Tanh because Tanh is the previous input to FCLW - can use .backward() as normal"
   ]
  },
  {
   "cell_type": "code",
   "execution_count": 63,
   "metadata": {},
   "outputs": [],
   "source": [
    "if t > 0:\n",
    "    FCLW.updateWeightsGradAccum(grad, t_inp=t-1) # Have to use t-1\n",
    "    FCLW.updateBiasesGradAccum(grad)"
   ]
  },
  {
   "cell_type": "code",
   "execution_count": 64,
   "metadata": {},
   "outputs": [
    {
     "data": {
      "text/plain": [
       "array([[-1.92852571e-08, -1.10803470e-09, -1.46364482e-09,\n",
       "         4.34575414e-08,  2.85346508e-09],\n",
       "       [ 3.86887466e-08,  2.22286245e-09,  2.93626282e-09,\n",
       "        -8.71815087e-08, -5.72442394e-09],\n",
       "       [ 8.22609882e-08,  4.72630616e-09,  6.24315602e-09,\n",
       "        -1.85367521e-07, -1.21714145e-08],\n",
       "       [ 1.00709298e-08,  5.78625406e-10,  7.64328116e-10,\n",
       "        -2.26939080e-08, -1.49010441e-09],\n",
       "       [-1.22515120e-08, -7.03910781e-10, -9.29822292e-10,\n",
       "         2.76076479e-08,  1.81274542e-09]])"
      ]
     },
     "execution_count": 64,
     "metadata": {},
     "output_type": "execute_result"
    }
   ],
   "source": [
    "FCLW.weights_grad_accum"
   ]
  },
  {
   "cell_type": "code",
   "execution_count": 65,
   "metadata": {},
   "outputs": [
    {
     "data": {
      "text/plain": [
       "array([[-9.02192244e-04, -5.18354673e-05, -6.84714232e-05,\n",
       "         2.03300670e-03,  1.33489227e-04]])"
      ]
     },
     "execution_count": 65,
     "metadata": {},
     "output_type": "execute_result"
    }
   ],
   "source": [
    "FCLW.biases_grad_accum"
   ]
  },
  {
   "cell_type": "markdown",
   "metadata": {},
   "source": [
    "## Loop part 5: Update FCLU gradients"
   ]
  },
  {
   "cell_type": "code",
   "execution_count": 66,
   "metadata": {},
   "outputs": [
    {
     "data": {
      "text/plain": [
       "(1, 5)"
      ]
     },
     "execution_count": 66,
     "metadata": {},
     "output_type": "execute_result"
    }
   ],
   "source": [
    "grad.shape"
   ]
  },
  {
   "cell_type": "code",
   "execution_count": 67,
   "metadata": {},
   "outputs": [
    {
     "data": {
      "text/plain": [
       "array([[0., 0., 0., 0., 0.]])"
      ]
     },
     "execution_count": 67,
     "metadata": {},
     "output_type": "execute_result"
    }
   ],
   "source": [
    "FCLU.weights_grad_accum"
   ]
  },
  {
   "cell_type": "code",
   "execution_count": 68,
   "metadata": {},
   "outputs": [
    {
     "data": {
      "text/plain": [
       "array([[0., 0., 0., 0., 0.]])"
      ]
     },
     "execution_count": 68,
     "metadata": {},
     "output_type": "execute_result"
    }
   ],
   "source": [
    "FCLU.biases_grad_accum"
   ]
  },
  {
   "cell_type": "code",
   "execution_count": 70,
   "metadata": {},
   "outputs": [
    {
     "data": {
      "text/plain": [
       "array([[-1.21041791e-03, -6.95445771e-05, -9.18640541e-05,\n",
       "         2.72756470e-03,  1.79094591e-04]])"
      ]
     },
     "execution_count": 70,
     "metadata": {},
     "output_type": "execute_result"
    }
   ],
   "source": [
    "FCLU.updateWeightsGradAccum(grad, t_inp=t)\n",
    "FCLU.weights_grad_accum\n"
   ]
  },
  {
   "cell_type": "code",
   "execution_count": 72,
   "metadata": {},
   "outputs": [
    {
     "data": {
      "text/plain": [
       "array([[-9.02192244e-04, -5.18354673e-05, -6.84714232e-05,\n",
       "         2.03300670e-03,  1.33489227e-04]])"
      ]
     },
     "execution_count": 72,
     "metadata": {},
     "output_type": "execute_result"
    }
   ],
   "source": [
    "FCLU.updateBiasesGradAccum(grad)\n",
    "FCLU.biases_grad_accum"
   ]
  },
  {
   "cell_type": "markdown",
   "metadata": {},
   "source": [
    "### Loop part 6: Update dhNext_dw"
   ]
  },
  {
   "cell_type": "code",
   "execution_count": 73,
   "metadata": {},
   "outputs": [
    {
     "data": {
      "text/plain": [
       "array([[-9.54249286e-08,  3.63345824e-08,  4.27520124e-08,\n",
       "        -1.20319617e-07, -1.63156032e-07]])"
      ]
     },
     "execution_count": 73,
     "metadata": {},
     "output_type": "execute_result"
    }
   ],
   "source": [
    "FCLW.backward(grad)"
   ]
  },
  {
   "cell_type": "code",
   "execution_count": 74,
   "metadata": {},
   "outputs": [],
   "source": [
    "dHnext_dW = FCLW.backward(grad)"
   ]
  },
  {
   "cell_type": "code",
   "execution_count": 75,
   "metadata": {},
   "outputs": [
    {
     "data": {
      "text/plain": [
       "array([[-9.54249286e-08,  3.63345824e-08,  4.27520124e-08,\n",
       "        -1.20319617e-07, -1.63156032e-07]])"
      ]
     },
     "execution_count": 75,
     "metadata": {},
     "output_type": "execute_result"
    }
   ],
   "source": [
    "dHnext_dW"
   ]
  },
  {
   "cell_type": "markdown",
   "metadata": {},
   "source": [
    "# Backwards Loop through Time"
   ]
  },
  {
   "cell_type": "code",
   "execution_count": 93,
   "metadata": {},
   "outputs": [
    {
     "data": {
      "text/plain": [
       "array([[3.02641757e-05, 4.06965304e-05, 2.20667899e-05]])"
      ]
     },
     "execution_count": 93,
     "metadata": {},
     "output_type": "execute_result"
    }
   ],
   "source": [
    "from Layers.InputLayer import InputLayer\n",
    "from Layers.FullyConnectedLayer import FullyConnectedLayer\n",
    "from Layers.TanhLayer import TanhLayer\n",
    "from Layers.LinearLayer import LinearLayer\n",
    "from LossFunctions.SquaredError import SquaredError\n",
    "\n",
    "# Create network\n",
    "IL = InputLayer(X)\n",
    "FCLU = FullyConnectedLayer(1, 5)\n",
    "ACT1 = TanhLayer()\n",
    "FCLW = FullyConnectedLayer(5, 5,)\n",
    "FCLV = FullyConnectedLayer(5, 3)\n",
    "ACT2 = LinearLayer()\n",
    "SE = SquaredError()\n",
    "\n",
    "for t in range(4):\n",
    "    IL_out = IL.forward(X[t])\n",
    "\n",
    "    if t > 0:\n",
    "        FCLU_out = FCLU.forward_with_feedback(IL_out, FCLW.getPrevOut()[t-1])\n",
    "    else:\n",
    "        FCLU_out = FCLU.forward(IL_out)\n",
    "\n",
    "    ACT1_out = ACT1.forward(FCLU_out)\n",
    "\n",
    "    FCLW_out = FCLW.forward(ACT1_out)\n",
    "\n",
    "    FCLV_out = FCLV.forward(ACT1_out)\n",
    "\n",
    "    ACT2_out = ACT2.forward(FCLV_out)\n",
    "\n",
    "ACT2_out"
   ]
  },
  {
   "cell_type": "code",
   "execution_count": 94,
   "metadata": {},
   "outputs": [],
   "source": [
    "dhNext_dW = np.zeros((1, 5)) # Same shape as what FCLV.backward(grad) is...\n",
    "\n",
    "# LOOP\n",
    "for t in range(len(X)-1, -1, -1):\n",
    "    grad = SE.gradient(y, ACT2.getPrevOut()[-1].reshape(y.shape)).reshape(1, -1)\n",
    "    grad = ACT2.backward(grad, t_inp=t)\n",
    "\n",
    "    FCLV.updateWeightsGradAccum(grad, t_inp=t)\n",
    "    FCLV.updateBiasesGradAccum(grad)\n",
    "\n",
    "    grad = FCLV.backward(grad) + dhNext_dW\n",
    "    grad = ACT1.backward(grad, t_inp=t)\n",
    "\n",
    "    if t > 0:\n",
    "        FCLW.updateWeightsGradAccum(grad, t_inp=t-1) # Have to use t-1\n",
    "        FCLW.updateBiasesGradAccum(grad)\n",
    "\n",
    "    FCLU.updateWeightsGradAccum(grad, t_inp=t)\n",
    "    FCLU.updateBiasesGradAccum(grad)\n",
    "\n",
    "    dHnext_dW = FCLW.backward(grad)"
   ]
  },
  {
   "cell_type": "markdown",
   "metadata": {},
   "source": [
    "### Update weights"
   ]
  },
  {
   "cell_type": "markdown",
   "metadata": {},
   "source": [
    "### FCLU"
   ]
  },
  {
   "cell_type": "code",
   "execution_count": 95,
   "metadata": {},
   "outputs": [
    {
     "data": {
      "text/plain": [
       "array([[ 3.80232549e-06,  5.41767821e-05,  1.37715981e-05,\n",
       "        -6.85802428e-06, -3.14622184e-05]])"
      ]
     },
     "execution_count": 95,
     "metadata": {},
     "output_type": "execute_result"
    }
   ],
   "source": [
    "FCLU.weights"
   ]
  },
  {
   "cell_type": "markdown",
   "metadata": {},
   "source": [
    "Vanishing gradient issue - because gradient is multiplied by small numbers multiple times, becomes small\n",
    "Have to use a big learning rate to see a noticeable change in weights"
   ]
  },
  {
   "cell_type": "code",
   "execution_count": 96,
   "metadata": {},
   "outputs": [
    {
     "data": {
      "text/plain": [
       "array([[ 1.42938504e-12,  9.89638569e-12, -1.88404392e-11,\n",
       "        -7.04559328e-12,  2.94355230e-12]])"
      ]
     },
     "execution_count": 96,
     "metadata": {},
     "output_type": "execute_result"
    }
   ],
   "source": [
    "FCLU.weights_grad_accum"
   ]
  },
  {
   "cell_type": "code",
   "execution_count": 97,
   "metadata": {},
   "outputs": [
    {
     "data": {
      "text/plain": [
       "array([[ 2.37294045e-06,  4.42803964e-05,  3.26120373e-05,\n",
       "         1.87568994e-07, -3.44057707e-05]])"
      ]
     },
     "execution_count": 97,
     "metadata": {},
     "output_type": "execute_result"
    }
   ],
   "source": [
    "FCLU.updateWeights(grad, eta=1e6) # Note not actually using grad because it's just using its own accumulated gradient\n",
    "FCLU.weights"
   ]
  },
  {
   "cell_type": "markdown",
   "metadata": {},
   "source": [
    "## FCLV"
   ]
  },
  {
   "cell_type": "code",
   "execution_count": 98,
   "metadata": {},
   "outputs": [
    {
     "data": {
      "text/plain": [
       "array([[-7.10908920e-05,  5.03055634e-05, -5.55901720e-05],\n",
       "       [ 3.87036487e-06,  5.70592056e-05, -9.55339144e-05],\n",
       "       [-3.51275081e-05,  7.45844753e-05,  6.89419215e-05],\n",
       "       [ 7.68811852e-06,  7.33216548e-05,  8.99611983e-05],\n",
       "       [ 6.52813995e-05,  7.08230888e-05, -8.02513196e-05]])"
      ]
     },
     "execution_count": 98,
     "metadata": {},
     "output_type": "execute_result"
    }
   ],
   "source": [
    "FCLV.weights"
   ]
  },
  {
   "cell_type": "code",
   "execution_count": 99,
   "metadata": {},
   "outputs": [
    {
     "data": {
      "text/plain": [
       "array([[ 0.00359178,  0.00431013,  0.00502851],\n",
       "       [ 0.00306073,  0.00367288,  0.00428504],\n",
       "       [ 0.00263211,  0.00315854,  0.00368497],\n",
       "       [-0.00412656, -0.00495187, -0.00577721],\n",
       "       [ 0.00162161,  0.00194594,  0.00227027]])"
      ]
     },
     "execution_count": 99,
     "metadata": {},
     "output_type": "execute_result"
    }
   ],
   "source": [
    "FCLV.weights_grad_accum"
   ]
  },
  {
   "cell_type": "code",
   "execution_count": 100,
   "metadata": {},
   "outputs": [],
   "source": [
    "FCLV.updateWeights(grad, eta=1e6) # Note not actually using grad because it's just using its own accumulated gradient"
   ]
  },
  {
   "cell_type": "code",
   "execution_count": 101,
   "metadata": {},
   "outputs": [
    {
     "data": {
      "text/plain": [
       "array([[-3591.77964978, -4310.13229805, -5028.50605066],\n",
       "       [-3060.73243145, -3672.87618441, -4285.03793351],\n",
       "       [-2632.11490608, -3158.53546506, -3684.97143845],\n",
       "       [ 4126.56454503,  4951.87390364,  5777.20719872],\n",
       "       [-1621.6147729 , -1945.93631461, -2270.26743849]])"
      ]
     },
     "execution_count": 101,
     "metadata": {},
     "output_type": "execute_result"
    }
   ],
   "source": [
    "FCLV.weights"
   ]
  },
  {
   "cell_type": "markdown",
   "metadata": {},
   "source": [
    "Weight change is pretty big for FCLV...maybe don't use a higher learning rate and accept FCLU weight may not change much?"
   ]
  },
  {
   "cell_type": "markdown",
   "metadata": {},
   "source": [
    "## FCLW"
   ]
  },
  {
   "cell_type": "code",
   "execution_count": 102,
   "metadata": {},
   "outputs": [
    {
     "data": {
      "text/plain": [
       "array([[ 6.23717395e-05,  7.49923290e-05,  3.76826505e-05,\n",
       "         1.38988825e-05, -6.78057126e-05],\n",
       "       [-6.62399545e-06, -3.09655898e-05, -5.49920084e-05,\n",
       "         1.85023738e-05, -3.75460325e-05],\n",
       "       [ 8.32611107e-05,  8.19271050e-05, -4.85763412e-05,\n",
       "        -7.78217399e-05, -6.14074536e-05],\n",
       "       [-8.31658642e-08,  4.57171336e-05, -5.83611123e-05,\n",
       "        -5.03932883e-05,  7.03343750e-05],\n",
       "       [-1.68302563e-05,  2.33370134e-05, -5.32667722e-05,\n",
       "        -7.96065481e-05,  3.17140339e-06]])"
      ]
     },
     "execution_count": 102,
     "metadata": {},
     "output_type": "execute_result"
    }
   ],
   "source": [
    "FCLW.weights"
   ]
  },
  {
   "cell_type": "code",
   "execution_count": 104,
   "metadata": {},
   "outputs": [
    {
     "data": {
      "text/plain": [
       "array([[-2.42045543e-07, -1.67849229e-07,  4.12451974e-07,\n",
       "         6.05778804e-07,  1.03642397e-07],\n",
       "       [-2.52257088e-07, -1.74930541e-07,  4.29852715e-07,\n",
       "         6.31335720e-07,  1.08014918e-07],\n",
       "       [-1.96559883e-07, -1.36306682e-07,  3.34943213e-07,\n",
       "         4.91939697e-07,  8.41657208e-08],\n",
       "       [ 2.80256298e-07,  1.94346911e-07, -4.77564105e-07,\n",
       "        -7.01410663e-07, -1.20004005e-07],\n",
       "       [-7.71453777e-08, -5.34973380e-08,  1.31457753e-07,\n",
       "         1.93075378e-07,  3.30331713e-08]])"
      ]
     },
     "execution_count": 104,
     "metadata": {},
     "output_type": "execute_result"
    }
   ],
   "source": [
    "FCLW.weights_grad_accum"
   ]
  },
  {
   "cell_type": "code",
   "execution_count": 105,
   "metadata": {},
   "outputs": [
    {
     "data": {
      "text/plain": [
       "array([[ 0.24210791,  0.16792422, -0.41241429, -0.6057649 , -0.1037102 ],\n",
       "       [ 0.25225046,  0.17489958, -0.42990771, -0.63131722, -0.10805246],\n",
       "       [ 0.19664314,  0.13638861, -0.33499179, -0.49201752, -0.08422713],\n",
       "       [-0.28025638, -0.19430119,  0.47750574,  0.70136027,  0.12007434],\n",
       "       [ 0.07712855,  0.05352068, -0.13151102, -0.19315498, -0.03303   ]])"
      ]
     },
     "execution_count": 105,
     "metadata": {},
     "output_type": "execute_result"
    }
   ],
   "source": [
    "FCLW.updateWeights(grad, eta=1e6) # Note not actually using grad because it's just using its own accumulated gradient\n",
    "FCLW.weights"
   ]
  },
  {
   "cell_type": "markdown",
   "metadata": {},
   "source": [
    "# Full Training"
   ]
  },
  {
   "cell_type": "code",
   "execution_count": 114,
   "metadata": {},
   "outputs": [],
   "source": [
    "from Layers.InputLayer import InputLayer\n",
    "from Layers.FullyConnectedLayer import FullyConnectedLayer\n",
    "from Layers.TanhLayer import TanhLayer\n",
    "from Layers.LinearLayer import LinearLayer\n",
    "from LossFunctions.SquaredError import SquaredError\n",
    "\n",
    "# Create network\n",
    "IL = InputLayer(X)\n",
    "FCLU = FullyConnectedLayer(1, 5)\n",
    "ACT1 = TanhLayer()\n",
    "FCLW = FullyConnectedLayer(5, 5,)\n",
    "FCLV = FullyConnectedLayer(5, 3)\n",
    "ACT2 = LinearLayer()\n",
    "SE = SquaredError()\n",
    "\n",
    "\n",
    "epochs = 50\n",
    "eta = 0.001\n",
    "training_dict = {\"epoch\": list(range(epochs)),\n",
    "                 \"squared_error\": [],\n",
    "                 \"y_preds\": [],}\n",
    "\n",
    "\n",
    "#TODO: Loop outputs can be more efficient. Keeping explicit as separate variables for tracking purposes\n",
    "for epoch in range(epochs):\n",
    "    # Forward\n",
    "    for t in range(len(X)):\n",
    "        IL_out = IL.forward(X[t])\n",
    "        if t > 0:\n",
    "            FCLU_out = FCLU.forward_with_feedback(IL_out, FCLW.getPrevOut()[t-1])\n",
    "        else:\n",
    "            FCLU_out = FCLU.forward(IL_out)\n",
    "        ACT1_out = ACT1.forward(FCLU_out)\n",
    "        FCLW_out = FCLW.forward(ACT1_out)\n",
    "        FCLV_out = FCLV.forward(ACT1_out)\n",
    "        ACT2_out = ACT2.forward(FCLV_out)\n",
    "\n",
    "    # Predictions and Loss\n",
    "    # training_dict[\"y_preds\"].append(ACT2_out.reshape(y.shape))\n",
    "    training_dict[\"y_preds\"].append(ACT2_out)\n",
    "\n",
    "    error = SE.eval(y, ACT2_out.reshape(y.shape))\n",
    "    training_dict[\"squared_error\"].append(error)\n",
    "\n",
    "    # Backward\n",
    "    dhNext_dW = np.zeros((1, 5)) # Same shape as what FCLV.backward(grad) is...\n",
    "    for t in range(len(X)-1, -1, -1):\n",
    "        grad = SE.gradient(y, ACT2.getPrevOut()[-1].reshape(y.shape)).reshape(1, -1)\n",
    "        grad = ACT2.backward(grad, t_inp=t)\n",
    "\n",
    "        FCLV.updateWeightsGradAccum(grad, t_inp=t)\n",
    "        FCLV.updateBiasesGradAccum(grad)\n",
    "\n",
    "        grad = FCLV.backward(grad) + dhNext_dW\n",
    "        grad = ACT1.backward(grad, t_inp=t)\n",
    "\n",
    "        if t > 0:\n",
    "            FCLW.updateWeightsGradAccum(grad, t_inp=t-1) # Have to use t-1\n",
    "            FCLW.updateBiasesGradAccum(grad)\n",
    "\n",
    "        FCLU.updateWeightsGradAccum(grad, t_inp=t)\n",
    "        FCLU.updateBiasesGradAccum(grad)\n",
    "\n",
    "        dHnext_dW = FCLW.backward(grad)\n",
    "\n",
    "    # Update weights   \n",
    "    FCLU.updateWeights(grad, eta=eta)\n",
    "    FCLV.updateWeights(grad, eta=eta)\n",
    "    FCLW.updateWeights(grad, eta=eta)"
   ]
  },
  {
   "cell_type": "markdown",
   "metadata": {},
   "source": [
    "## Examine Outputs"
   ]
  },
  {
   "cell_type": "code",
   "execution_count": 116,
   "metadata": {},
   "outputs": [
    {
     "data": {
      "text/html": [
       "<div>\n",
       "<style scoped>\n",
       "    .dataframe tbody tr th:only-of-type {\n",
       "        vertical-align: middle;\n",
       "    }\n",
       "\n",
       "    .dataframe tbody tr th {\n",
       "        vertical-align: top;\n",
       "    }\n",
       "\n",
       "    .dataframe thead th {\n",
       "        text-align: right;\n",
       "    }\n",
       "</style>\n",
       "<table border=\"1\" class=\"dataframe\">\n",
       "  <thead>\n",
       "    <tr style=\"text-align: right;\">\n",
       "      <th></th>\n",
       "      <th>epoch</th>\n",
       "      <th>squared_error</th>\n",
       "      <th>y_preds</th>\n",
       "    </tr>\n",
       "  </thead>\n",
       "  <tbody>\n",
       "    <tr>\n",
       "      <th>0</th>\n",
       "      <td>0</td>\n",
       "      <td>36.666627</td>\n",
       "      <td>[[1.2099250201445788e-05, 3.433328095955348e-0...</td>\n",
       "    </tr>\n",
       "    <tr>\n",
       "      <th>1</th>\n",
       "      <td>1</td>\n",
       "      <td>36.082307</td>\n",
       "      <td>[[0.040012003668248274, 0.04803406016236948, 0...</td>\n",
       "    </tr>\n",
       "    <tr>\n",
       "      <th>2</th>\n",
       "      <td>2</td>\n",
       "      <td>34.932329</td>\n",
       "      <td>[[0.11969181340112009, 0.1436495164123391, 0.1...</td>\n",
       "    </tr>\n",
       "    <tr>\n",
       "      <th>3</th>\n",
       "      <td>3</td>\n",
       "      <td>33.253419</td>\n",
       "      <td>[[0.23841409029439736, 0.2861157790482189, 0.3...</td>\n",
       "    </tr>\n",
       "    <tr>\n",
       "      <th>4</th>\n",
       "      <td>4</td>\n",
       "      <td>31.099193</td>\n",
       "      <td>[[0.39522905675714043, 0.4742931191168578, 0.5...</td>\n",
       "    </tr>\n",
       "    <tr>\n",
       "      <th>5</th>\n",
       "      <td>5</td>\n",
       "      <td>28.538449</td>\n",
       "      <td>[[0.5888821941252298, 0.7066761196742304, 0.82...</td>\n",
       "    </tr>\n",
       "    <tr>\n",
       "      <th>6</th>\n",
       "      <td>6</td>\n",
       "      <td>25.652967</td>\n",
       "      <td>[[0.8178242789628763, 0.981405719274073, 1.144...</td>\n",
       "    </tr>\n",
       "    <tr>\n",
       "      <th>7</th>\n",
       "      <td>7</td>\n",
       "      <td>22.534898</td>\n",
       "      <td>[[1.080223776984037, 1.2962840845852528, 1.512...</td>\n",
       "    </tr>\n",
       "    <tr>\n",
       "      <th>8</th>\n",
       "      <td>8</td>\n",
       "      <td>19.283820</td>\n",
       "      <td>[[1.3739814954129514, 1.6487921931228848, 1.92...</td>\n",
       "    </tr>\n",
       "    <tr>\n",
       "      <th>9</th>\n",
       "      <td>9</td>\n",
       "      <td>16.003561</td>\n",
       "      <td>[[1.696747376536892, 2.0361099853991256, 2.375...</td>\n",
       "    </tr>\n",
       "    <tr>\n",
       "      <th>10</th>\n",
       "      <td>10</td>\n",
       "      <td>12.798877</td>\n",
       "      <td>[[2.045939298079014, 2.455138925249528, 2.8642...</td>\n",
       "    </tr>\n",
       "    <tr>\n",
       "      <th>11</th>\n",
       "      <td>11</td>\n",
       "      <td>9.772115</td>\n",
       "      <td>[[2.4187637299716775, 2.9025267878339456, 3.38...</td>\n",
       "    </tr>\n",
       "    <tr>\n",
       "      <th>12</th>\n",
       "      <td>12</td>\n",
       "      <td>7.019936</td>\n",
       "      <td>[[2.812238082268671, 3.3746944770007006, 3.937...</td>\n",
       "    </tr>\n",
       "    <tr>\n",
       "      <th>13</th>\n",
       "      <td>13</td>\n",
       "      <td>4.630235</td>\n",
       "      <td>[[3.2232145654164754, 3.867864657480781, 4.512...</td>\n",
       "    </tr>\n",
       "    <tr>\n",
       "      <th>14</th>\n",
       "      <td>14</td>\n",
       "      <td>2.679328</td>\n",
       "      <td>[[3.648405372017417, 4.37809197287395, 5.10775...</td>\n",
       "    </tr>\n",
       "    <tr>\n",
       "      <th>15</th>\n",
       "      <td>15</td>\n",
       "      <td>1.229521</td>\n",
       "      <td>[[4.084408978656973, 4.901294607715865, 5.7181...</td>\n",
       "    </tr>\n",
       "    <tr>\n",
       "      <th>16</th>\n",
       "      <td>16</td>\n",
       "      <td>0.327115</td>\n",
       "      <td>[[4.527737357417292, 5.433286941174759, 6.3388...</td>\n",
       "    </tr>\n",
       "    <tr>\n",
       "      <th>17</th>\n",
       "      <td>17</td>\n",
       "      <td>0.000928</td>\n",
       "      <td>[[4.9748438794297805, 5.969813031202973, 6.964...</td>\n",
       "    </tr>\n",
       "    <tr>\n",
       "      <th>18</th>\n",
       "      <td>18</td>\n",
       "      <td>0.261379</td>\n",
       "      <td>[[5.422151687288807, 6.506580661331316, 7.5910...</td>\n",
       "    </tr>\n",
       "    <tr>\n",
       "      <th>19</th>\n",
       "      <td>19</td>\n",
       "      <td>1.100149</td>\n",
       "      <td>[[5.8660823093999, 7.039295677795489, 8.212523...</td>\n",
       "    </tr>\n",
       "    <tr>\n",
       "      <th>20</th>\n",
       "      <td>20</td>\n",
       "      <td>2.490452</td>\n",
       "      <td>[[6.303084287398793, 7.563696342358954, 8.8243...</td>\n",
       "    </tr>\n",
       "    <tr>\n",
       "      <th>21</th>\n",
       "      <td>21</td>\n",
       "      <td>4.387887</td>\n",
       "      <td>[[6.72966158766776, 8.075587426064427, 9.42154...</td>\n",
       "    </tr>\n",
       "    <tr>\n",
       "      <th>22</th>\n",
       "      <td>22</td>\n",
       "      <td>6.731857</td>\n",
       "      <td>[[7.142401569693913, 8.570873771207575, 9.9993...</td>\n",
       "    </tr>\n",
       "    <tr>\n",
       "      <th>23</th>\n",
       "      <td>23</td>\n",
       "      <td>9.447505</td>\n",
       "      <td>[[7.538002287547183, 9.045593053065863, 10.553...</td>\n",
       "    </tr>\n",
       "    <tr>\n",
       "      <th>24</th>\n",
       "      <td>24</td>\n",
       "      <td>12.448103</td>\n",
       "      <td>[[7.913298906076003, 9.49594747929944, 11.0786...</td>\n",
       "    </tr>\n",
       "    <tr>\n",
       "      <th>25</th>\n",
       "      <td>25</td>\n",
       "      <td>15.637825</td>\n",
       "      <td>[[8.265289020484573, 9.918334173419721, 11.571...</td>\n",
       "    </tr>\n",
       "    <tr>\n",
       "      <th>26</th>\n",
       "      <td>26</td>\n",
       "      <td>18.914801</td>\n",
       "      <td>[[8.591156676711522, 10.309373999228177, 12.02...</td>\n",
       "    </tr>\n",
       "    <tr>\n",
       "      <th>27</th>\n",
       "      <td>27</td>\n",
       "      <td>22.174378</td>\n",
       "      <td>[[8.888294900406793, 10.665938595580037, 12.44...</td>\n",
       "    </tr>\n",
       "    <tr>\n",
       "      <th>28</th>\n",
       "      <td>28</td>\n",
       "      <td>25.312458</td>\n",
       "      <td>[[9.154326554219885, 10.985175405127048, 12.81...</td>\n",
       "    </tr>\n",
       "    <tr>\n",
       "      <th>29</th>\n",
       "      <td>29</td>\n",
       "      <td>28.228820</td>\n",
       "      <td>[[9.387123356473705, 11.264530496726646, 13.14...</td>\n",
       "    </tr>\n",
       "    <tr>\n",
       "      <th>30</th>\n",
       "      <td>30</td>\n",
       "      <td>30.830328</td>\n",
       "      <td>[[9.584822908998346, 11.501768998845087, 13.41...</td>\n",
       "    </tr>\n",
       "    <tr>\n",
       "      <th>31</th>\n",
       "      <td>31</td>\n",
       "      <td>33.033900</td>\n",
       "      <td>[[9.745843597821178, 11.694992980388452, 13.64...</td>\n",
       "    </tr>\n",
       "    <tr>\n",
       "      <th>32</th>\n",
       "      <td>32</td>\n",
       "      <td>34.769161</td>\n",
       "      <td>[[9.868897247426663, 11.842656635816102, 13.81...</td>\n",
       "    </tr>\n",
       "    <tr>\n",
       "      <th>33</th>\n",
       "      <td>33</td>\n",
       "      <td>35.980693</td>\n",
       "      <td>[[9.95299942727536, 11.943578652962582, 13.934...</td>\n",
       "    </tr>\n",
       "    <tr>\n",
       "      <th>34</th>\n",
       "      <td>34</td>\n",
       "      <td>36.629805</td>\n",
       "      <td>[[9.99747732806272, 11.996951664543522, 13.996...</td>\n",
       "    </tr>\n",
       "    <tr>\n",
       "      <th>35</th>\n",
       "      <td>35</td>\n",
       "      <td>36.695768</td>\n",
       "      <td>[[10.001975144653514, 12.002348707667712, 14.0...</td>\n",
       "    </tr>\n",
       "    <tr>\n",
       "      <th>36</th>\n",
       "      <td>36</td>\n",
       "      <td>36.176474</td>\n",
       "      <td>[[9.966456922591068, 11.959726639633717, 13.95...</td>\n",
       "    </tr>\n",
       "    <tr>\n",
       "      <th>37</th>\n",
       "      <td>37</td>\n",
       "      <td>35.088509</td>\n",
       "      <td>[[9.891206845390712, 11.869426482662197, 13.84...</td>\n",
       "    </tr>\n",
       "    <tr>\n",
       "      <th>38</th>\n",
       "      <td>38</td>\n",
       "      <td>33.466619</td>\n",
       "      <td>[[9.776826960321086, 11.732170694808312, 13.68...</td>\n",
       "    </tr>\n",
       "    <tr>\n",
       "      <th>39</th>\n",
       "      <td>39</td>\n",
       "      <td>31.362602</td>\n",
       "      <td>[[9.624232360889305, 11.549057388913944, 13.47...</td>\n",
       "    </tr>\n",
       "    <tr>\n",
       "      <th>40</th>\n",
       "      <td>40</td>\n",
       "      <td>28.843651</td>\n",
       "      <td>[[9.434643864611834, 11.321551545898703, 13.20...</td>\n",
       "    </tr>\n",
       "    <tr>\n",
       "      <th>41</th>\n",
       "      <td>41</td>\n",
       "      <td>25.990214</td>\n",
       "      <td>[[9.20957824470765, 11.051473292754759, 12.893...</td>\n",
       "    </tr>\n",
       "    <tr>\n",
       "      <th>42</th>\n",
       "      <td>42</td>\n",
       "      <td>22.893418</td>\n",
       "      <td>[[8.950836093932853, 10.740983339109837, 12.53...</td>\n",
       "    </tr>\n",
       "    <tr>\n",
       "      <th>43</th>\n",
       "      <td>43</td>\n",
       "      <td>19.652164</td>\n",
       "      <td>[[8.660487417728579, 10.392565688966252, 12.12...</td>\n",
       "    </tr>\n",
       "    <tr>\n",
       "      <th>44</th>\n",
       "      <td>44</td>\n",
       "      <td>16.369964</td>\n",
       "      <td>[[8.34085507202487, 10.009007766028997, 11.677...</td>\n",
       "    </tr>\n",
       "    <tr>\n",
       "      <th>45</th>\n",
       "      <td>45</td>\n",
       "      <td>13.151638</td>\n",
       "      <td>[[7.994496178286472, 9.5933781117279, 11.19231...</td>\n",
       "    </tr>\n",
       "    <tr>\n",
       "      <th>46</th>\n",
       "      <td>46</td>\n",
       "      <td>10.099968</td>\n",
       "      <td>[[7.624181664564247, 9.149001834452346, 10.673...</td>\n",
       "    </tr>\n",
       "    <tr>\n",
       "      <th>47</th>\n",
       "      <td>47</td>\n",
       "      <td>7.312409</td>\n",
       "      <td>[[7.232874096299293, 8.679434006496988, 10.126...</td>\n",
       "    </tr>\n",
       "    <tr>\n",
       "      <th>48</th>\n",
       "      <td>48</td>\n",
       "      <td>4.877984</td>\n",
       "      <td>[[6.823703974296377, 8.188431221620295, 9.5531...</td>\n",
       "    </tr>\n",
       "    <tr>\n",
       "      <th>49</th>\n",
       "      <td>49</td>\n",
       "      <td>2.874438</td>\n",
       "      <td>[[6.399944689530649, 7.67992154081438, 8.95993...</td>\n",
       "    </tr>\n",
       "  </tbody>\n",
       "</table>\n",
       "</div>"
      ],
      "text/plain": [
       "    epoch  squared_error                                            y_preds\n",
       "0       0      36.666627  [[1.2099250201445788e-05, 3.433328095955348e-0...\n",
       "1       1      36.082307  [[0.040012003668248274, 0.04803406016236948, 0...\n",
       "2       2      34.932329  [[0.11969181340112009, 0.1436495164123391, 0.1...\n",
       "3       3      33.253419  [[0.23841409029439736, 0.2861157790482189, 0.3...\n",
       "4       4      31.099193  [[0.39522905675714043, 0.4742931191168578, 0.5...\n",
       "5       5      28.538449  [[0.5888821941252298, 0.7066761196742304, 0.82...\n",
       "6       6      25.652967  [[0.8178242789628763, 0.981405719274073, 1.144...\n",
       "7       7      22.534898  [[1.080223776984037, 1.2962840845852528, 1.512...\n",
       "8       8      19.283820  [[1.3739814954129514, 1.6487921931228848, 1.92...\n",
       "9       9      16.003561  [[1.696747376536892, 2.0361099853991256, 2.375...\n",
       "10     10      12.798877  [[2.045939298079014, 2.455138925249528, 2.8642...\n",
       "11     11       9.772115  [[2.4187637299716775, 2.9025267878339456, 3.38...\n",
       "12     12       7.019936  [[2.812238082268671, 3.3746944770007006, 3.937...\n",
       "13     13       4.630235  [[3.2232145654164754, 3.867864657480781, 4.512...\n",
       "14     14       2.679328  [[3.648405372017417, 4.37809197287395, 5.10775...\n",
       "15     15       1.229521  [[4.084408978656973, 4.901294607715865, 5.7181...\n",
       "16     16       0.327115  [[4.527737357417292, 5.433286941174759, 6.3388...\n",
       "17     17       0.000928  [[4.9748438794297805, 5.969813031202973, 6.964...\n",
       "18     18       0.261379  [[5.422151687288807, 6.506580661331316, 7.5910...\n",
       "19     19       1.100149  [[5.8660823093999, 7.039295677795489, 8.212523...\n",
       "20     20       2.490452  [[6.303084287398793, 7.563696342358954, 8.8243...\n",
       "21     21       4.387887  [[6.72966158766776, 8.075587426064427, 9.42154...\n",
       "22     22       6.731857  [[7.142401569693913, 8.570873771207575, 9.9993...\n",
       "23     23       9.447505  [[7.538002287547183, 9.045593053065863, 10.553...\n",
       "24     24      12.448103  [[7.913298906076003, 9.49594747929944, 11.0786...\n",
       "25     25      15.637825  [[8.265289020484573, 9.918334173419721, 11.571...\n",
       "26     26      18.914801  [[8.591156676711522, 10.309373999228177, 12.02...\n",
       "27     27      22.174378  [[8.888294900406793, 10.665938595580037, 12.44...\n",
       "28     28      25.312458  [[9.154326554219885, 10.985175405127048, 12.81...\n",
       "29     29      28.228820  [[9.387123356473705, 11.264530496726646, 13.14...\n",
       "30     30      30.830328  [[9.584822908998346, 11.501768998845087, 13.41...\n",
       "31     31      33.033900  [[9.745843597821178, 11.694992980388452, 13.64...\n",
       "32     32      34.769161  [[9.868897247426663, 11.842656635816102, 13.81...\n",
       "33     33      35.980693  [[9.95299942727536, 11.943578652962582, 13.934...\n",
       "34     34      36.629805  [[9.99747732806272, 11.996951664543522, 13.996...\n",
       "35     35      36.695768  [[10.001975144653514, 12.002348707667712, 14.0...\n",
       "36     36      36.176474  [[9.966456922591068, 11.959726639633717, 13.95...\n",
       "37     37      35.088509  [[9.891206845390712, 11.869426482662197, 13.84...\n",
       "38     38      33.466619  [[9.776826960321086, 11.732170694808312, 13.68...\n",
       "39     39      31.362602  [[9.624232360889305, 11.549057388913944, 13.47...\n",
       "40     40      28.843651  [[9.434643864611834, 11.321551545898703, 13.20...\n",
       "41     41      25.990214  [[9.20957824470765, 11.051473292754759, 12.893...\n",
       "42     42      22.893418  [[8.950836093932853, 10.740983339109837, 12.53...\n",
       "43     43      19.652164  [[8.660487417728579, 10.392565688966252, 12.12...\n",
       "44     44      16.369964  [[8.34085507202487, 10.009007766028997, 11.677...\n",
       "45     45      13.151638  [[7.994496178286472, 9.5933781117279, 11.19231...\n",
       "46     46      10.099968  [[7.624181664564247, 9.149001834452346, 10.673...\n",
       "47     47       7.312409  [[7.232874096299293, 8.679434006496988, 10.126...\n",
       "48     48       4.877984  [[6.823703974296377, 8.188431221620295, 9.5531...\n",
       "49     49       2.874438  [[6.399944689530649, 7.67992154081438, 8.95993..."
      ]
     },
     "execution_count": 116,
     "metadata": {},
     "output_type": "execute_result"
    }
   ],
   "source": [
    "df = pd.DataFrame(training_dict)\n",
    "df"
   ]
  },
  {
   "cell_type": "code",
   "execution_count": 122,
   "metadata": {},
   "outputs": [
    {
     "data": {
      "text/plain": [
       "array([[4.97484388, 5.96981303, 6.96478134]])"
      ]
     },
     "execution_count": 122,
     "metadata": {},
     "output_type": "execute_result"
    }
   ],
   "source": [
    "df[\"y_preds\"].loc[17] # where min is"
   ]
  },
  {
   "cell_type": "markdown",
   "metadata": {},
   "source": [
    "## Plot errors"
   ]
  },
  {
   "cell_type": "code",
   "execution_count": 117,
   "metadata": {},
   "outputs": [
    {
     "data": {
      "text/plain": [
       "<AxesSubplot: xlabel='epoch'>"
      ]
     },
     "execution_count": 117,
     "metadata": {},
     "output_type": "execute_result"
    },
    {
     "data": {
      "image/png": "[encoded data removed]",
      "text/plain": [
       "<Figure size 432x288 with 1 Axes>"
      ]
     },
     "metadata": {
      "needs_background": "light"
     },
     "output_type": "display_data"
    }
   ],
   "source": [
    "df.plot(x=\"epoch\", y=\"squared_error\")"
   ]
  },
  {
   "cell_type": "markdown",
   "metadata": {},
   "source": [
    "Error reaches a minimum then goes back?\n",
    "* Wonder if it has to do with one of the layers' weights not changing enough due to vanishing gradients\n",
    "* Is the tanh doing something?"
   ]
  },
  {
   "cell_type": "code",
   "execution_count": 130,
   "metadata": {},
   "outputs": [
    {
     "data": {
      "text/plain": [
       "array([1, 2, 3, 4])"
      ]
     },
     "execution_count": 130,
     "metadata": {},
     "output_type": "execute_result"
    }
   ],
   "source": [
    "X.reshape(-1)"
   ]
  },
  {
   "cell_type": "code",
   "execution_count": 128,
   "metadata": {},
   "outputs": [
    {
     "data": {
      "text/plain": [
       "array([array([[ 1.20992502e-05,  3.43332810e-05, -2.94946189e-05]]),\n",
       "       array([[1.69674738, 2.03610999, 2.37541567]]),\n",
       "       array([[4.97484388, 5.96981303, 6.96478134]])], dtype=object)"
      ]
     },
     "execution_count": 128,
     "metadata": {},
     "output_type": "execute_result"
    }
   ],
   "source": [
    "graph_index_lst = [0, 9, 17]\n",
    "y_preds_graph = df[\"y_preds\"].loc[graph_index_lst].to_numpy()\n",
    "y_preds_graph"
   ]
  },
  {
   "cell_type": "code",
   "execution_count": 143,
   "metadata": {},
   "outputs": [
    {
     "data": {
      "text/plain": [
       "array([ 1.00000000e+00,  2.00000000e+00,  3.00000000e+00,  4.00000000e+00,\n",
       "        1.20992502e-05,  3.43332810e-05, -2.94946189e-05])"
      ]
     },
     "execution_count": 143,
     "metadata": {},
     "output_type": "execute_result"
    }
   ],
   "source": [
    "X = X.astype(float)\n",
    "np.concatenate((X.flatten(), y_preds_graph[0].flatten()))\n",
    "\n",
    "seq_vals = "
   ]
  },
  {
   "cell_type": "code",
   "execution_count": 145,
   "metadata": {},
   "outputs": [
    {
     "data": {
      "text/plain": [
       "array([4, 5, 6])"
      ]
     },
     "execution_count": 145,
     "metadata": {},
     "output_type": "execute_result"
    }
   ],
   "source": [
    "np.arange(len(X), len(X)+len(y))"
   ]
  },
  {
   "cell_type": "code",
   "execution_count": 153,
   "metadata": {},
   "outputs": [
    {
     "data": {
      "image/png": "[encoded data removed]",
      "text/plain": [
       "<Figure size 720x432 with 1 Axes>"
      ]
     },
     "metadata": {
      "needs_background": "light"
     },
     "output_type": "display_data"
    }
   ],
   "source": [
    "import matplotlib.pyplot as plt\n",
    "\n",
    "fig, ax = plt.subplots(figsize=(10, 6))\n",
    "t_vals_x = np.arange(len(X))\n",
    "t_vals_y = np.arange(len(X), len(X)+len(y))\n",
    "\n",
    "ax.plot(t_vals_x, X.flatten(), color=\"green\", linestyle=\"solid\", label=\"Training Sequence\", linewidth=2, marker=\"o\")\n",
    "ax.plot(t_vals_y, y.flatten(), color=\"blue\", linestyle=\"solid\", label=\"Predict Sequence\", linewidth=2, marker=\"o\")\n",
    "\n",
    "colors = [\"red\", \"magenta\", \"purple\"]\n",
    "for ind, y_pred_seq, color in zip(graph_index_lst, y_preds_graph, colors):\n",
    "    ax.plot(t_vals_y, y_pred_seq.flatten(), color = color, linestyle=\"dashed\", label=f\"{ind} epochs\", linewidth=2, marker=\"x\")\n",
    "\n",
    "\n",
    "ax.set_xlabel(\"Time\", fontsize=16)\n",
    "ax.set_ylabel(\"y(t)\", fontsize=16)\n",
    "ax.set_title(f\"Predictions at Different Epochs, $\\eta$ = {eta}\", \n",
    "             fontsize=16)\n",
    "ax.tick_params(axis=\"x\", labelsize=14)\n",
    "ax.tick_params(axis=\"y\", labelsize=14)\n",
    "ax.legend(fontsize=14)\n",
    "ax.grid()\n",
    "plt.show()"
   ]
  },
  {
   "cell_type": "code",
   "execution_count": null,
   "metadata": {},
   "outputs": [],
   "source": [
    "\n",
    "\n",
    "\n",
    "ax.set_xlabel(\"Epochs\", fontsize=16)\n",
    "ax.set_ylabel(\"Cross Entropy Loss\", fontsize=16)\n",
    "ax.set_title(f\"Cross Entropy Loss vs. Epochs for Happy Face Images, $\\eta$ = {eta}\", \n",
    "             fontsize=16)\n",
    "\n",
    "ax.tick_params(axis=\"x\", labelsize=14)\n",
    "ax.tick_params(axis=\"y\", labelsize=14)\n",
    "\n",
    "ax.legend(fontsize=14)\n",
    "ax.grid()\n",
    "plt.show()"
   ]
  }
 ],
 "metadata": {
  "kernelspec": {
   "display_name": "ds",
   "language": "python",
   "name": "python3"
  },
  "language_info": {
   "codemirror_mode": {
    "name": "ipython",
    "version": 3
   },
   "file_extension": ".py",
   "mimetype": "text/x-python",
   "name": "python",
   "nbconvert_exporter": "python",
   "pygments_lexer": "ipython3",
   "version": "3.9.13"
  }
 },
 "nbformat": 4,
 "nbformat_minor": 2
}
